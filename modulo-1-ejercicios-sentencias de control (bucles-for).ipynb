{
 "cells": [
  {
   "cell_type": "markdown",
   "metadata": {},
   "source": [
    "### Ejercicios"
   ]
  },
  {
   "cell_type": "markdown",
   "metadata": {},
   "source": [
    "1# Usando la siguiente lista:\n",
    "\n",
    "temperaturas = [2,45,67,23, 45,66,12,1,34,67,99,98,67,64, 44, 100]\n",
    "\n",
    "Crea tres listas nuevas, donde:\n",
    "\n",
    "* En la primera tengamos temperaturas entre 0 - 10, llama a la nueva lista bajas_temp.\n",
    "\n",
    "* En la segunda tengamos temperaturas entre 11- 20, llama a la nueva lista medias_temp.\n",
    "\n",
    "* En la tercera tengamos temperaturas por encima de 20, llama a la nueva lista altas_temp"
   ]
  },
  {
   "cell_type": "code",
   "execution_count": 1,
   "metadata": {},
   "outputs": [],
   "source": [
    "temperaturas=[2,45,67,23, 45,66,12,1,34,67,99,98,67,64, 44, 100]"
   ]
  },
  {
   "cell_type": "code",
   "execution_count": 20,
   "metadata": {},
   "outputs": [
    {
     "name": "stdout",
     "output_type": "stream",
     "text": [
      "[2, 1]\n"
     ]
    }
   ],
   "source": [
    "bajas_temp=[]\n",
    "\n",
    "for num in temperaturas:\n",
    "    if 0<=num<=10:\n",
    "        bajas_temp.append(num)\n",
    "        \n",
    "print(bajas_temp)"
   ]
  },
  {
   "cell_type": "code",
   "execution_count": 3,
   "metadata": {},
   "outputs": [
    {
     "name": "stdout",
     "output_type": "stream",
     "text": [
      "[12]\n"
     ]
    }
   ],
   "source": [
    "medias_temp=[]\n",
    "\n",
    "for num2 in temperaturas:\n",
    "    if 11<=num2<=20:\n",
    "        medias_temp.append(num2)\n",
    "        \n",
    "print(medias_temp)"
   ]
  },
  {
   "cell_type": "code",
   "execution_count": 4,
   "metadata": {},
   "outputs": [
    {
     "name": "stdout",
     "output_type": "stream",
     "text": [
      "[45, 67, 23, 45, 66, 34, 67, 99, 98, 67, 64, 44, 100]\n"
     ]
    }
   ],
   "source": [
    "altas_temp=[]\n",
    "\n",
    "for num3 in temperaturas:\n",
    "    if 20<num3:\n",
    "        altas_temp.append(num3)\n",
    "        \n",
    "print(altas_temp)"
   ]
  },
  {
   "cell_type": "markdown",
   "metadata": {},
   "source": [
    "2# Las temperaturas están grados centígrados. Para cada una de las listas creadas en el ejercicio anterior, convertid las temperaturas a grados fahrenheit\n",
    "\n",
    "# la relacion de grados celsius y fahrenheit es:\n",
    "(0 °C × 9 / 5) + 32 = 32 °F"
   ]
  },
  {
   "cell_type": "code",
   "execution_count": 6,
   "metadata": {},
   "outputs": [
    {
     "name": "stdout",
     "output_type": "stream",
     "text": [
      "[2, 1]\n"
     ]
    }
   ],
   "source": [
    "print(bajas_temp)"
   ]
  },
  {
   "cell_type": "code",
   "execution_count": 24,
   "metadata": {},
   "outputs": [
    {
     "name": "stdout",
     "output_type": "stream",
     "text": [
      "[35.6, 33.8]\n"
     ]
    }
   ],
   "source": [
    "bajas_temp_f=[]\n",
    "\n",
    "for num in bajas_temp:\n",
    "    \n",
    "    num4=(num * (9/5))+32\n",
    "    \n",
    "    bajas_temp_f.append(num4)\n",
    "    \n",
    "print(bajas_temp_f)\n",
    "       "
   ]
  },
  {
   "cell_type": "code",
   "execution_count": 26,
   "metadata": {},
   "outputs": [
    {
     "name": "stdout",
     "output_type": "stream",
     "text": [
      "[53.6]\n"
     ]
    }
   ],
   "source": [
    "medias_temp_f=[]\n",
    "\n",
    "for num2 in medias_temp:\n",
    "    \n",
    "    num5=(num2 * (9/5))+32\n",
    "    \n",
    "    medias_temp_f.append(num5)\n",
    "    \n",
    "print(medias_temp_f)"
   ]
  },
  {
   "cell_type": "code",
   "execution_count": 28,
   "metadata": {},
   "outputs": [
    {
     "name": "stdout",
     "output_type": "stream",
     "text": [
      "[113.0, 152.60000000000002, 73.4, 113.0, 150.8, 93.2, 152.60000000000002, 210.20000000000002, 208.4, 152.60000000000002, 147.2, 111.2, 212.0]\n"
     ]
    }
   ],
   "source": [
    "altas_temp_f=[]\n",
    "\n",
    "for num3 in altas_temp:\n",
    "    \n",
    "    num6=(num3 * (9/5))+32\n",
    "    \n",
    "    altas_temp_f.append(num6)\n",
    "    \n",
    "print(altas_temp_f)"
   ]
  },
  {
   "cell_type": "markdown",
   "metadata": {},
   "source": [
    "3# Define e imprime un rango de 0 a 6 (excluido)."
   ]
  },
  {
   "cell_type": "code",
   "execution_count": 30,
   "metadata": {},
   "outputs": [
    {
     "name": "stdout",
     "output_type": "stream",
     "text": [
      "0\n",
      "1\n",
      "2\n",
      "3\n",
      "4\n",
      "5\n"
     ]
    }
   ],
   "source": [
    "numeros=range(0, 6)\n",
    "\n",
    "for x in range(6):\n",
    "    print(x)"
   ]
  },
  {
   "cell_type": "markdown",
   "metadata": {},
   "source": [
    "4# Define e imprime un rango de 3 a 6 ambos incluidos."
   ]
  },
  {
   "cell_type": "code",
   "execution_count": 31,
   "metadata": {},
   "outputs": [
    {
     "name": "stdout",
     "output_type": "stream",
     "text": [
      "3\n",
      "4\n",
      "5\n",
      "6\n"
     ]
    }
   ],
   "source": [
    "for x in range(3, 7):\n",
    "    print(x)"
   ]
  },
  {
   "cell_type": "markdown",
   "metadata": {},
   "source": [
    "5# Define e imprime un rango de 5 a 9 ambos excluidos."
   ]
  },
  {
   "cell_type": "code",
   "execution_count": 33,
   "metadata": {},
   "outputs": [
    {
     "name": "stdout",
     "output_type": "stream",
     "text": [
      "6\n",
      "7\n",
      "8\n"
     ]
    }
   ],
   "source": [
    "for x in range(6, 9):\n",
    "    print(x)"
   ]
  },
  {
   "cell_type": "markdown",
   "metadata": {},
   "source": [
    "6# Define e imprime un rango de 3 números que empiece en 2."
   ]
  },
  {
   "cell_type": "code",
   "execution_count": 34,
   "metadata": {},
   "outputs": [
    {
     "name": "stdout",
     "output_type": "stream",
     "text": [
      "20\n",
      "21\n",
      "22\n"
     ]
    }
   ],
   "source": [
    "for x in range(20, 23):\n",
    "    print(x)"
   ]
  },
  {
   "cell_type": "markdown",
   "metadata": {},
   "source": [
    "7# Define e imprime un rango que empiece en 2, aumentando cada paso por 3, que pare antes de llegar al número 13."
   ]
  },
  {
   "cell_type": "code",
   "execution_count": 35,
   "metadata": {},
   "outputs": [
    {
     "name": "stdout",
     "output_type": "stream",
     "text": [
      "2\n",
      "5\n",
      "8\n",
      "11\n"
     ]
    }
   ],
   "source": [
    "for x in range(2, 13, 3):\n",
    "    print(x)"
   ]
  },
  {
   "cell_type": "markdown",
   "metadata": {},
   "source": [
    "8# Define e imprime un rango con todos los valores impares que hay hasta 10."
   ]
  },
  {
   "cell_type": "code",
   "execution_count": 36,
   "metadata": {},
   "outputs": [
    {
     "name": "stdout",
     "output_type": "stream",
     "text": [
      "Es par\n",
      "Es par\n",
      "Es par\n",
      "Es par\n",
      "Es par\n",
      "[1, 3, 5, 7, 9]\n"
     ]
    }
   ],
   "source": [
    "impares=[]\n",
    "\n",
    "for x in range(10):\n",
    "    if x % 2 == 0:\n",
    "        print(\"Es par\")\n",
    "\n",
    "    else:\n",
    "        impares.append(x)\n",
    "\n",
    "print(impares)\n"
   ]
  },
  {
   "cell_type": "markdown",
   "metadata": {},
   "source": [
    "9# Crea una lista nueva donde tengamos los números de la lista temperaturas elevados al cuadrado."
   ]
  },
  {
   "cell_type": "code",
   "execution_count": 39,
   "metadata": {},
   "outputs": [
    {
     "name": "stdout",
     "output_type": "stream",
     "text": [
      "[4, 2025, 4489, 529, 2025, 4356, 144, 1, 1156, 4489, 9801, 9604, 4489, 4096, 1936, 10000]\n"
     ]
    }
   ],
   "source": [
    "temperatura2=[]\n",
    "\n",
    "for a in temperaturas:\n",
    "    if a**2:\n",
    "        temperatura2.append(a**2)\n",
    "        \n",
    "print(temperatura2)"
   ]
  },
  {
   "cell_type": "markdown",
   "metadata": {},
   "source": [
    "10# Crea una lista nueva donde tengamos el resto de la división de cada uno de los números entre 2."
   ]
  },
  {
   "cell_type": "code",
   "execution_count": 52,
   "metadata": {},
   "outputs": [
    {
     "name": "stdout",
     "output_type": "stream",
     "text": [
      "[1, 1, 1, 1, 1, 1, 1, 1]\n"
     ]
    }
   ],
   "source": [
    "temperatura3=[]\n",
    "\n",
    "for b in temperatura2:\n",
    "    if b%2:\n",
    "        temperatura3.append(b%2)\n",
    "        \n",
    "print(temperatura3)"
   ]
  },
  {
   "cell_type": "markdown",
   "metadata": {},
   "source": [
    "11# Crea una lista nueva donde tengamos solo los elementos pares de la lista temperaturas."
   ]
  },
  {
   "cell_type": "code",
   "execution_count": 55,
   "metadata": {},
   "outputs": [
    {
     "name": "stdout",
     "output_type": "stream",
     "text": [
      "[2, 66, 12, 34, 98, 64, 44, 100]\n"
     ]
    }
   ],
   "source": [
    "temperaturas_pares=[]\n",
    "\n",
    "for num in temperaturas:\n",
    "    if num%2==0:\n",
    "        temperaturas_pares.append(num)\n",
    "        \n",
    "print(temperaturas_pares)"
   ]
  },
  {
   "cell_type": "markdown",
   "metadata": {},
   "source": [
    "12# Crea una lista nueva donde tengamos solo los elementos que sean menores que 50."
   ]
  },
  {
   "cell_type": "code",
   "execution_count": 56,
   "metadata": {},
   "outputs": [
    {
     "name": "stdout",
     "output_type": "stream",
     "text": [
      "[2, 45, 23, 45, 12, 1, 34, 44]\n"
     ]
    }
   ],
   "source": [
    "temperaturas_nuevas=[]\n",
    "\n",
    "for num in temperaturas:\n",
    "    if num<50:\n",
    "        temperaturas_nuevas.append(num)\n",
    "        \n",
    "print(temperaturas_nuevas)"
   ]
  },
  {
   "cell_type": "markdown",
   "metadata": {},
   "source": [
    "13# Crea una lista donde tengamos los valores \"par\" e \"impar\" en función de los valores de la lista original. La lista resultante tiene que ser como la que indicamos a continuación:\n",
    "\n",
    "lista_strings = [\"par\",\"impar\",\"impar\",\"impar\", \"impar\",\"par\",\"par\",\"impar\",\"par\",\"impar\",\"impar\",\"par\",\"impar\",\"par\", \"par\", \"par\"]"
   ]
  },
  {
   "cell_type": "code",
   "execution_count": 58,
   "metadata": {},
   "outputs": [
    {
     "name": "stdout",
     "output_type": "stream",
     "text": [
      "['par', 'impar', 'impar', 'impar', 'impar', 'par', 'par', 'impar', 'par', 'impar', 'impar', 'par', 'impar', 'par', 'par', 'par']\n"
     ]
    }
   ],
   "source": [
    "temperaturas_valores=[]\n",
    "\n",
    "for num in temperaturas:\n",
    "    if num%2==0:\n",
    "        temperaturas_valores.append('par')\n",
    "    else:\n",
    "        temperaturas_valores.append('impar')\n",
    "        \n",
    "print(temperaturas_valores)"
   ]
  },
  {
   "cell_type": "markdown",
   "metadata": {},
   "source": [
    "14# Pide al usuario un número entero positivo y suma los números pares e impares por separado hasta ese número."
   ]
  },
  {
   "cell_type": "code",
   "execution_count": 62,
   "metadata": {},
   "outputs": [
    {
     "name": "stdout",
     "output_type": "stream",
     "text": [
      "suma de pares: 30\n",
      "suma de impares: 25\n"
     ]
    }
   ],
   "source": [
    "suma_pares=0\n",
    "suma_impares=0\n",
    "\n",
    "num = int(input(\"Ingresa un número entero positivo: \"))\n",
    "\n",
    "for i in range(1, num+1):\n",
    "    if i%2==0:\n",
    "        suma_pares += i\n",
    "    else:\n",
    "        suma_impares += i\n",
    "        \n",
    "print(\"suma de pares:\", suma_pares)\n",
    "print(\"suma de impares:\", suma_impares)"
   ]
  },
  {
   "cell_type": "markdown",
   "metadata": {},
   "source": [
    "15# Pide al usuario ingresar una cadena y cuenta cuántas veces aparece cada vocal (a, e, i, o, u) en la cadena."
   ]
  },
  {
   "cell_type": "code",
   "execution_count": 65,
   "metadata": {},
   "outputs": [
    {
     "name": "stdout",
     "output_type": "stream",
     "text": [
      "La vocal 'a' aparece 2 veces.\n",
      "La vocal 'e' aparece 1 veces.\n",
      "La vocal 'i' aparece 1 veces.\n",
      "La vocal 'o' aparece 0 veces.\n",
      "La vocal 'u' aparece 0 veces.\n"
     ]
    }
   ],
   "source": [
    "texto = input(\"Indicar tus nombres y apellidos:\")\n",
    "\n",
    "vocales = 'aeiou'\n",
    "\n",
    "conteo_de_vocales={}\n",
    "\n",
    "for vocal in vocales:\n",
    "    conteo_de_vocales[vocal]=0\n",
    "\n",
    "for letra in texto:\n",
    "    if letra in vocales:\n",
    "        conteo_de_vocales[letra] +=1\n",
    "\n",
    "for vocal, conteo in conteo_de_vocales.items():\n",
    "    print(f\"La vocal '{vocal}' aparece {conteo} veces.\")        \n",
    "\n"
   ]
  },
  {
   "cell_type": "markdown",
   "metadata": {},
   "source": [
    "### Ejercicios"
   ]
  },
  {
   "cell_type": "markdown",
   "metadata": {},
   "source": [
    "1# Crea una variable que sea igual a \"Python\" y genera un código que nos printee todas las letras menos la \"P\" usando la sentencia continue."
   ]
  },
  {
   "cell_type": "code",
   "execution_count": 2,
   "metadata": {},
   "outputs": [
    {
     "name": "stdout",
     "output_type": "stream",
     "text": [
      "y\n",
      "t\n",
      "h\n",
      "o\n",
      "n\n"
     ]
    }
   ],
   "source": [
    "texto=\"python\"\n",
    "\n",
    "for letra in texto:\n",
    "\n",
    "    if \"p\" in letra:\n",
    "        continue\n",
    "\n",
    "    else:\n",
    "        print(letra)\n"
   ]
  },
  {
   "cell_type": "markdown",
   "metadata": {},
   "source": [
    "2# De la frase 'Hello' imprime todas las letras que no sean una 'l' usando if."
   ]
  },
  {
   "cell_type": "code",
   "execution_count": 7,
   "metadata": {},
   "outputs": [
    {
     "name": "stdout",
     "output_type": "stream",
     "text": [
      "H\n",
      "e\n",
      "o\n"
     ]
    }
   ],
   "source": [
    "texto3=\"Hello\"\n",
    "\n",
    "for x in texto3:\n",
    "    if x != \"l\":\n",
    "        print(x)"
   ]
  },
  {
   "cell_type": "markdown",
   "metadata": {},
   "source": [
    "3# Haz lo mismo que en 2 usando continue."
   ]
  },
  {
   "cell_type": "code",
   "execution_count": 6,
   "metadata": {},
   "outputs": [
    {
     "name": "stdout",
     "output_type": "stream",
     "text": [
      "H\n",
      "e\n",
      "o\n"
     ]
    }
   ],
   "source": [
    "texto2=\"Hello\"\n",
    "\n",
    "for le in texto2:\n",
    "\n",
    "    if \"l\" in le:\n",
    "        continue\n",
    "\n",
    "    else:\n",
    "        print(le)"
   ]
  },
  {
   "cell_type": "markdown",
   "metadata": {},
   "source": [
    "4# De la frase 'Hello' imprime todas las letras parando el bucle si encuentras una 'o'."
   ]
  },
  {
   "cell_type": "code",
   "execution_count": 9,
   "metadata": {},
   "outputs": [
    {
     "name": "stdout",
     "output_type": "stream",
     "text": [
      "['H', 'e', 'l', 'l']\n"
     ]
    }
   ],
   "source": [
    "frase=\"Hello\"\n",
    "\n",
    "frase_larga=[]\n",
    "\n",
    "for i in frase:\n",
    "    if i != \"o\":\n",
    "        frase_larga.append(i)\n",
    "\n",
    "print(frase_larga)"
   ]
  },
  {
   "cell_type": "markdown",
   "metadata": {},
   "source": [
    "5# Define la variable doce = '12' y seis = 6. Intenta sumarlos. En el caso de que te salga un error imprime Define la variable doce = '12' y seis = 6. Intenta sumarlos. En el caso de que te salga un error imprime '¡Un error!'. Para eso usa un try ... except. Para eso usa un try ... except"
   ]
  },
  {
   "cell_type": "code",
   "execution_count": 10,
   "metadata": {},
   "outputs": [
    {
     "name": "stdout",
     "output_type": "stream",
     "text": [
      "18\n"
     ]
    }
   ],
   "source": [
    "doce=12\n",
    "\n",
    "seis=6\n",
    "\n",
    "try:\n",
    "\n",
    "    resultado= doce+seis\n",
    "    print(resultado)\n",
    "\n",
    "except ValueError:\n",
    "\n",
    "    print('¡Un error!')\n",
    "\n",
    "\n"
   ]
  },
  {
   "cell_type": "markdown",
   "metadata": {},
   "source": [
    "6# Basándonos en el ejercicio anterior, sin usar un try ... except, ¿cómo podríamos solucionar el problema?"
   ]
  },
  {
   "cell_type": "code",
   "execution_count": 11,
   "metadata": {},
   "outputs": [
    {
     "name": "stdout",
     "output_type": "stream",
     "text": [
      "18\n"
     ]
    }
   ],
   "source": [
    "if resultado:\n",
    "    resultado=doce+seis\n",
    "    print(resultado)\n",
    "\n",
    "else:\n",
    "    print('¡Un error!')"
   ]
  },
  {
   "cell_type": "markdown",
   "metadata": {},
   "source": [
    "7# Solicita al usuario ingresar números enteros positivos hasta que ingrese un número negativo. Luego, muestra la suma de todos los números pares ingresados."
   ]
  },
  {
   "cell_type": "code",
   "execution_count": 33,
   "metadata": {},
   "outputs": [
    {
     "name": "stdout",
     "output_type": "stream",
     "text": [
      "12\n"
     ]
    }
   ],
   "source": [
    "suma_pares=0\n",
    "\n",
    "while True:\n",
    "    try:\n",
    "        num=int(input('Ingrese solo numeros positivos:'))\n",
    "        \n",
    "        if num<0:\n",
    "            break\n",
    "    \n",
    "        if num%2==0:\n",
    "            suma_pares += num\n",
    "\n",
    "    except ValueError:\n",
    "        print(\"Entrada no válida. Por favor, ingresa un número entero positivo.\")\n",
    "\n",
    "print(suma_pares)\n",
    "\n"
   ]
  },
  {
   "cell_type": "markdown",
   "metadata": {},
   "source": [
    "8# Solicita al usuario ingresar dos números y muestra el resultado de dividir el primero por el segundo. Asegúrate de manejar la excepción si el segundo número es cero."
   ]
  },
  {
   "cell_type": "code",
   "execution_count": null,
   "metadata": {},
   "outputs": [
    {
     "name": "stdout",
     "output_type": "stream",
     "text": [
      "El numero debe de ser diferente de cero\n"
     ]
    }
   ],
   "source": [
    "try:\n",
    "    a=int(input('Ingrese el 1er numero:'))\n",
    "    b=int(input('Ingrese el 2 numero:'))\n",
    "    \n",
    "    if b>0:\n",
    "      division=a/b\n",
    "      print(division)\n",
    "\n",
    "    else:\n",
    "        print(\"El numero debe de ser diferente de cero\")\n"
   ]
  },
  {
   "cell_type": "markdown",
   "metadata": {},
   "source": [
    "9# Solicita al usuario ingresar un número y muestra su raíz cuadrada. Maneja la excepción si el número es negativo."
   ]
  },
  {
   "cell_type": "code",
   "execution_count": 29,
   "metadata": {},
   "outputs": [
    {
     "name": "stdout",
     "output_type": "stream",
     "text": [
      "Entrada no válida. Por favor, ingresa un número entero positivo.\n"
     ]
    }
   ],
   "source": [
    "try:\n",
    "    i=int(input('Ingrese el numero:'))\n",
    "    \n",
    "    if i>0:\n",
    "      raiz_cuadrada=i**2\n",
    "      print(raiz_cuadrada)\n",
    "\n",
    "    else:\n",
    "        print(\"El numero debe de ser mayor a cero\")\n",
    "            \n",
    "except ValueError:\n",
    "        print(\"Entrada no válida. Por favor, ingresa un número entero positivo.\")"
   ]
  },
  {
   "cell_type": "code",
   "execution_count": 28,
   "metadata": {},
   "outputs": [
    {
     "name": "stdout",
     "output_type": "stream",
     "text": [
      "(6.123233995736766e-17+1j)\n"
     ]
    }
   ],
   "source": [
    "try:\n",
    "    i=int(input('Ingrese el numero:'))\n",
    "    \n",
    "    raiz_cuadrada=i**0.5\n",
    "    print(raiz_cuadrada)\n",
    "            \n",
    "except:\n",
    "    print(\"No se acepta numero negativo .\")"
   ]
  },
  {
   "cell_type": "markdown",
   "metadata": {},
   "source": [
    "10# Crea una lista de números y solicita al usuario ingresar un índice para acceder a un elemento de la lista. Maneja la excepción si el índice está fuera de rango."
   ]
  },
  {
   "cell_type": "code",
   "execution_count": 38,
   "metadata": {},
   "outputs": [
    {
     "name": "stdout",
     "output_type": "stream",
     "text": [
      "5\n"
     ]
    }
   ],
   "source": [
    "try:\n",
    "    lista_num=[1, 2, 3, 5, 11, 15, 27]\n",
    "    \n",
    "    indice=int(input('Ingrese el indice para acceder a un elemento de la lista:'))\n",
    "\n",
    "    print(lista_num[indice])\n",
    "\n",
    "except:\n",
    "    print(\"El numero debe estar dentro del rngo\")"
   ]
  }
 ],
 "metadata": {
  "kernelspec": {
   "display_name": "Python 3",
   "language": "python",
   "name": "python3"
  },
  "language_info": {
   "codemirror_mode": {
    "name": "ipython",
    "version": 3
   },
   "file_extension": ".py",
   "mimetype": "text/x-python",
   "name": "python",
   "nbconvert_exporter": "python",
   "pygments_lexer": "ipython3",
   "version": "3.11.9"
  }
 },
 "nbformat": 4,
 "nbformat_minor": 2
}
