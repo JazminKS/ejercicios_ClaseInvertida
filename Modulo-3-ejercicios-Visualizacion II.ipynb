{
 "cells": [
  {
   "cell_type": "code",
   "execution_count": 1,
   "metadata": {},
   "outputs": [],
   "source": [
    "# primero nuestras librerias!\n",
    "\n",
    "# Tratamiento de datos\n",
    "# -----------------------------------------------------------------------\n",
    "import pandas as pd\n",
    "\n",
    "# Visualización\n",
    "# ------------------------------------------------------------------------------\n",
    "import matplotlib.pyplot as plt\n",
    "import seaborn as sns\n",
    "\n",
    "# Configuración\n",
    "# -----------------------------------------------------------------------\n",
    "pd.set_option('display.max_columns', None) # para poder visualizar todas las columnas de los DataFrames"
   ]
  },
  {
   "cell_type": "code",
   "execution_count": 3,
   "metadata": {},
   "outputs": [
    {
     "data": {
      "text/html": [
       "<div>\n",
       "<style scoped>\n",
       "    .dataframe tbody tr th:only-of-type {\n",
       "        vertical-align: middle;\n",
       "    }\n",
       "\n",
       "    .dataframe tbody tr th {\n",
       "        vertical-align: top;\n",
       "    }\n",
       "\n",
       "    .dataframe thead th {\n",
       "        text-align: right;\n",
       "    }\n",
       "</style>\n",
       "<table border=\"1\" class=\"dataframe\">\n",
       "  <thead>\n",
       "    <tr style=\"text-align: right;\">\n",
       "      <th></th>\n",
       "      <th>title</th>\n",
       "      <th>price</th>\n",
       "      <th>retail_price</th>\n",
       "      <th>units_sold</th>\n",
       "      <th>uses_ad_boosts</th>\n",
       "      <th>rating_sold</th>\n",
       "      <th>rating_count</th>\n",
       "      <th>badge_local_product</th>\n",
       "      <th>badge_product_quality</th>\n",
       "      <th>badge_fast_shipping</th>\n",
       "      <th>tags</th>\n",
       "      <th>product_color</th>\n",
       "      <th>product_variation_size_id</th>\n",
       "      <th>shipping_option_name</th>\n",
       "      <th>shipping_option_price</th>\n",
       "      <th>shipping_is_express</th>\n",
       "      <th>countries_shipped_to</th>\n",
       "      <th>inventory_total</th>\n",
       "      <th>origin_country</th>\n",
       "      <th>merchant_name</th>\n",
       "      <th>merchant_info_subtitle</th>\n",
       "      <th>merchant_rating_count</th>\n",
       "      <th>merchant_id</th>\n",
       "      <th>product_url</th>\n",
       "      <th>product_id</th>\n",
       "      <th>listed_products</th>\n",
       "      <th>total_units_sold</th>\n",
       "      <th>mean_units_sold_per_product</th>\n",
       "      <th>rating_employee</th>\n",
       "      <th>merchant_ratings_count</th>\n",
       "      <th>mean_product_prices</th>\n",
       "      <th>mean_retail_prices</th>\n",
       "      <th>mean_product_ratings_count</th>\n",
       "      <th>discount_percentage</th>\n",
       "      <th>seller_reputation</th>\n",
       "      <th>rating_four_count</th>\n",
       "      <th>rating_three_count</th>\n",
       "      <th>rating_two_count</th>\n",
       "      <th>rating_one_count</th>\n",
       "      <th>rating_five_count</th>\n",
       "    </tr>\n",
       "  </thead>\n",
       "  <tbody>\n",
       "    <tr>\n",
       "      <th>1001</th>\n",
       "      <td>Pantalon à lacets à la mode pour femmes d'été,...</td>\n",
       "      <td>5.00</td>\n",
       "      <td>30</td>\n",
       "      <td>100</td>\n",
       "      <td>No</td>\n",
       "      <td>3.69</td>\n",
       "      <td>13</td>\n",
       "      <td>No</td>\n",
       "      <td>Buena</td>\n",
       "      <td>No</td>\n",
       "      <td>Summer,Shorts,high waist shorts,Lace,Casual pa...</td>\n",
       "      <td>black</td>\n",
       "      <td>XS</td>\n",
       "      <td>Livraison standard</td>\n",
       "      <td>1</td>\n",
       "      <td>No</td>\n",
       "      <td>40</td>\n",
       "      <td>50</td>\n",
       "      <td>CN</td>\n",
       "      <td>topmanclothing</td>\n",
       "      <td>Unknown</td>\n",
       "      <td>16215</td>\n",
       "      <td>52838e612dcc6469fa2d7104</td>\n",
       "      <td>https://www.wish.com/c/5e44564413b8939de2f0a0f8</td>\n",
       "      <td>5e44564413b8939de2f0a0f8</td>\n",
       "      <td>2</td>\n",
       "      <td>200</td>\n",
       "      <td>100.0</td>\n",
       "      <td>3.840</td>\n",
       "      <td>16215.0</td>\n",
       "      <td>5.00</td>\n",
       "      <td>30.0</td>\n",
       "      <td>13.0</td>\n",
       "      <td>-83.33</td>\n",
       "      <td>Regular</td>\n",
       "      <td>2.0</td>\n",
       "      <td>4.0</td>\n",
       "      <td>1.0</td>\n",
       "      <td>1.0</td>\n",
       "      <td>5.0</td>\n",
       "    </tr>\n",
       "    <tr>\n",
       "      <th>1140</th>\n",
       "      <td>XS-8XL Nouvelles Femmes De Mode D'été Sans Man...</td>\n",
       "      <td>3.87</td>\n",
       "      <td>4</td>\n",
       "      <td>1000</td>\n",
       "      <td>No</td>\n",
       "      <td>3.34</td>\n",
       "      <td>94</td>\n",
       "      <td>No</td>\n",
       "      <td>Buena</td>\n",
       "      <td>No</td>\n",
       "      <td>Mini,Fashion,Summer,long dress,plus size dress...</td>\n",
       "      <td>lightgray</td>\n",
       "      <td>XS</td>\n",
       "      <td>Livraison standard</td>\n",
       "      <td>1</td>\n",
       "      <td>No</td>\n",
       "      <td>22</td>\n",
       "      <td>50</td>\n",
       "      <td>CN</td>\n",
       "      <td>yykeaid</td>\n",
       "      <td>88 % avis positifs</td>\n",
       "      <td>3117</td>\n",
       "      <td>589eb1c33205e17175cee2ee</td>\n",
       "      <td>https://www.wish.com/c/5e4ce8cc2ce2e50680cee732</td>\n",
       "      <td>5e4ce8cc2ce2e50680cee732</td>\n",
       "      <td>1</td>\n",
       "      <td>1000</td>\n",
       "      <td>1000.0</td>\n",
       "      <td>4.127</td>\n",
       "      <td>3117.0</td>\n",
       "      <td>3.87</td>\n",
       "      <td>4.0</td>\n",
       "      <td>94.0</td>\n",
       "      <td>-3.25</td>\n",
       "      <td>Buena</td>\n",
       "      <td>13.0</td>\n",
       "      <td>19.0</td>\n",
       "      <td>11.0</td>\n",
       "      <td>18.0</td>\n",
       "      <td>33.0</td>\n",
       "    </tr>\n",
       "  </tbody>\n",
       "</table>\n",
       "</div>"
      ],
      "text/plain": [
       "                                                  title  price  retail_price  \\\n",
       "1001  Pantalon à lacets à la mode pour femmes d'été,...   5.00            30   \n",
       "1140  XS-8XL Nouvelles Femmes De Mode D'été Sans Man...   3.87             4   \n",
       "\n",
       "      units_sold uses_ad_boosts  rating_sold  rating_count  \\\n",
       "1001         100             No         3.69            13   \n",
       "1140        1000             No         3.34            94   \n",
       "\n",
       "     badge_local_product badge_product_quality badge_fast_shipping  \\\n",
       "1001                  No                 Buena                  No   \n",
       "1140                  No                 Buena                  No   \n",
       "\n",
       "                                                   tags product_color  \\\n",
       "1001  Summer,Shorts,high waist shorts,Lace,Casual pa...         black   \n",
       "1140  Mini,Fashion,Summer,long dress,plus size dress...     lightgray   \n",
       "\n",
       "     product_variation_size_id shipping_option_name  shipping_option_price  \\\n",
       "1001                        XS   Livraison standard                      1   \n",
       "1140                        XS   Livraison standard                      1   \n",
       "\n",
       "     shipping_is_express  countries_shipped_to  inventory_total  \\\n",
       "1001                  No                    40               50   \n",
       "1140                  No                    22               50   \n",
       "\n",
       "     origin_country   merchant_name merchant_info_subtitle  \\\n",
       "1001             CN  topmanclothing                Unknown   \n",
       "1140             CN         yykeaid    88 % avis positifs    \n",
       "\n",
       "      merchant_rating_count               merchant_id  \\\n",
       "1001                  16215  52838e612dcc6469fa2d7104   \n",
       "1140                   3117  589eb1c33205e17175cee2ee   \n",
       "\n",
       "                                          product_url  \\\n",
       "1001  https://www.wish.com/c/5e44564413b8939de2f0a0f8   \n",
       "1140  https://www.wish.com/c/5e4ce8cc2ce2e50680cee732   \n",
       "\n",
       "                    product_id  listed_products  total_units_sold  \\\n",
       "1001  5e44564413b8939de2f0a0f8                2               200   \n",
       "1140  5e4ce8cc2ce2e50680cee732                1              1000   \n",
       "\n",
       "      mean_units_sold_per_product  rating_employee  merchant_ratings_count  \\\n",
       "1001                        100.0            3.840                 16215.0   \n",
       "1140                       1000.0            4.127                  3117.0   \n",
       "\n",
       "      mean_product_prices  mean_retail_prices  mean_product_ratings_count  \\\n",
       "1001                 5.00                30.0                        13.0   \n",
       "1140                 3.87                 4.0                        94.0   \n",
       "\n",
       "      discount_percentage seller_reputation  rating_four_count  \\\n",
       "1001               -83.33           Regular                2.0   \n",
       "1140                -3.25             Buena               13.0   \n",
       "\n",
       "      rating_three_count  rating_two_count  rating_one_count  \\\n",
       "1001                 4.0               1.0               1.0   \n",
       "1140                19.0              11.0              18.0   \n",
       "\n",
       "      rating_five_count  \n",
       "1001                5.0  \n",
       "1140               33.0  "
      ]
     },
     "execution_count": 3,
     "metadata": {},
     "output_type": "execute_result"
    }
   ],
   "source": [
    "df = pd.read_csv(\"merchant_fill_nonulls_2.csv\", index_col=0) \n",
    "\n",
    "df.sample(2)"
   ]
  },
  {
   "cell_type": "code",
   "execution_count": 5,
   "metadata": {},
   "outputs": [
    {
     "data": {
      "text/plain": [
       "Index(['title', 'price', 'retail_price', 'units_sold', 'uses_ad_boosts',\n",
       "       'rating_sold', 'rating_count', 'badge_local_product',\n",
       "       'badge_product_quality', 'badge_fast_shipping', 'tags', 'product_color',\n",
       "       'product_variation_size_id', 'shipping_option_name',\n",
       "       'shipping_option_price', 'shipping_is_express', 'countries_shipped_to',\n",
       "       'inventory_total', 'origin_country', 'merchant_name',\n",
       "       'merchant_info_subtitle', 'merchant_rating_count', 'merchant_id',\n",
       "       'product_url', 'product_id', 'listed_products', 'total_units_sold',\n",
       "       'mean_units_sold_per_product', 'rating_employee',\n",
       "       'merchant_ratings_count', 'mean_product_prices', 'mean_retail_prices',\n",
       "       'mean_product_ratings_count', 'discount_percentage',\n",
       "       'seller_reputation', 'rating_four_count', 'rating_three_count',\n",
       "       'rating_two_count', 'rating_one_count', 'rating_five_count'],\n",
       "      dtype='object')"
      ]
     },
     "execution_count": 5,
     "metadata": {},
     "output_type": "execute_result"
    }
   ],
   "source": [
    "df.columns"
   ]
  },
  {
   "cell_type": "code",
   "execution_count": 6,
   "metadata": {},
   "outputs": [],
   "source": [
    "df.drop(['merchant_ratings_count'], axis = 1, inplace=True)"
   ]
  },
  {
   "cell_type": "code",
   "execution_count": 7,
   "metadata": {},
   "outputs": [
    {
     "data": {
      "text/plain": [
       "Index(['title', 'price', 'retail_price', 'units_sold', 'uses_ad_boosts',\n",
       "       'rating_sold', 'rating_count', 'badge_local_product',\n",
       "       'badge_product_quality', 'badge_fast_shipping', 'tags', 'product_color',\n",
       "       'product_variation_size_id', 'shipping_option_name',\n",
       "       'shipping_option_price', 'shipping_is_express', 'countries_shipped_to',\n",
       "       'inventory_total', 'origin_country', 'merchant_name',\n",
       "       'merchant_info_subtitle', 'merchant_rating_count', 'merchant_id',\n",
       "       'product_url', 'product_id', 'listed_products', 'total_units_sold',\n",
       "       'mean_units_sold_per_product', 'rating_employee', 'mean_product_prices',\n",
       "       'mean_retail_prices', 'mean_product_ratings_count',\n",
       "       'discount_percentage', 'seller_reputation', 'rating_four_count',\n",
       "       'rating_three_count', 'rating_two_count', 'rating_one_count',\n",
       "       'rating_five_count'],\n",
       "      dtype='object')"
      ]
     },
     "execution_count": 7,
     "metadata": {},
     "output_type": "execute_result"
    }
   ],
   "source": [
    "df.columns"
   ]
  },
  {
   "cell_type": "markdown",
   "metadata": {},
   "source": [
    "'title': 'título'\n",
    "'price': 'precio'\n",
    "'retail_price': 'precio de venta al público' o 'precio minorista'\n",
    "'units_sold': 'unidades vendidas'\n",
    "'uses_ad_boosts': 'usa promociones publicitarias'\n",
    "'rating_sold': 'calificación de venta'\n",
    "'rating_count': 'recuento de calificaciones'\n",
    "'badge_local_product': 'insignia de producto local'\n",
    "'badge_product_quality': 'insignia de calidad del producto'\n",
    "'badge_fast_shipping': 'insignia de envío rápido'\n",
    "'tags': 'etiquetas'\n",
    "'product_color': 'color del producto'\n",
    "'product_variation_size_id': 'id de variación de tamaño del producto'\n",
    "'shipping_option_name': 'nombre de la opción de envío'\n",
    "'shipping_option_price': 'precio de la opción de envío'\n",
    "'shipping_is_express': 'el envío es exprés'\n",
    "'countries_shipped_to': 'países a los que se envía'\n",
    "'inventory_total': 'inventario total'\n",
    "'origin_country': 'país de origen'\n",
    "'merchant_name': 'nombre del vendedor' o 'nombre del comerciante'\n",
    "'merchant_info_subtitle': 'subtítulo de información del vendedor' o 'subtítulo de información del comerciante'\n",
    "'merchant_rating_count': 'recuento de calificaciones del vendedor' o 'recuento de calificaciones del comerciante'\n",
    "'merchant_id': 'id del vendedor' o 'id del comerciante'\n",
    "'product_url': 'url del producto'\n",
    "'product_id': 'id del producto'\n",
    "'listed_products': 'productos listados'\n",
    "'total_units_sold': 'unidades totales vendidas'\n",
    "'mean_units_sold_per_product': 'media de unidades vendidas por producto'\n",
    "'rating_employee': 'calificación del empleado'\n",
    "'mean_product_prices': 'media de precios de productos'\n",
    "'mean_retail_prices': 'media de precios de venta al público' o 'media de precios minoristas'\n",
    "'mean_product_ratings_count': 'media de recuentos de calificaciones de productos'\n",
    "'discount_percentage': 'porcentaje de descuento'\n",
    "'seller_reputation': 'reputación del vendedor'\n",
    "'rating_four_count': 'recuento de calificaciones de cuatro estrellas'\n",
    "'rating_three_count': 'recuento de calificaciones de tres estrellas'\n",
    "'rating_two_count': 'recuento de calificaciones de dos estrellas'\n",
    "'rating_one_count': 'recuento de calificaciones de una estrella'\n",
    "'rating_five_count': 'recuento de calificaciones de cinco estrellas'"
   ]
  },
  {
   "cell_type": "code",
   "execution_count": 8,
   "metadata": {},
   "outputs": [
    {
     "data": {
      "text/html": [
       "<div>\n",
       "<style scoped>\n",
       "    .dataframe tbody tr th:only-of-type {\n",
       "        vertical-align: middle;\n",
       "    }\n",
       "\n",
       "    .dataframe tbody tr th {\n",
       "        vertical-align: top;\n",
       "    }\n",
       "\n",
       "    .dataframe thead th {\n",
       "        text-align: right;\n",
       "    }\n",
       "</style>\n",
       "<table border=\"1\" class=\"dataframe\">\n",
       "  <thead>\n",
       "    <tr style=\"text-align: right;\">\n",
       "      <th></th>\n",
       "      <th>title</th>\n",
       "      <th>price</th>\n",
       "      <th>retail_price</th>\n",
       "      <th>units_sold</th>\n",
       "      <th>uses_ad_boosts</th>\n",
       "      <th>rating_sold</th>\n",
       "      <th>rating_count</th>\n",
       "      <th>badge_local_product</th>\n",
       "      <th>badge_product_quality</th>\n",
       "      <th>badge_fast_shipping</th>\n",
       "      <th>tags</th>\n",
       "      <th>product_color</th>\n",
       "      <th>product_variation_size_id</th>\n",
       "      <th>shipping_option_name</th>\n",
       "      <th>shipping_option_price</th>\n",
       "      <th>shipping_is_express</th>\n",
       "      <th>countries_shipped_to</th>\n",
       "      <th>inventory_total</th>\n",
       "      <th>origin_country</th>\n",
       "      <th>merchant_name</th>\n",
       "      <th>merchant_info_subtitle</th>\n",
       "      <th>merchant_rating_count</th>\n",
       "      <th>merchant_id</th>\n",
       "      <th>product_url</th>\n",
       "      <th>product_id</th>\n",
       "      <th>listed_products</th>\n",
       "      <th>total_units_sold</th>\n",
       "      <th>mean_units_sold_per_product</th>\n",
       "      <th>rating_employee</th>\n",
       "      <th>mean_product_prices</th>\n",
       "      <th>mean_retail_prices</th>\n",
       "      <th>mean_product_ratings_count</th>\n",
       "      <th>discount_percentage</th>\n",
       "      <th>seller_reputation</th>\n",
       "      <th>rating_four_count</th>\n",
       "      <th>rating_three_count</th>\n",
       "      <th>rating_two_count</th>\n",
       "      <th>rating_one_count</th>\n",
       "      <th>rating_five_count</th>\n",
       "    </tr>\n",
       "  </thead>\n",
       "  <tbody>\n",
       "    <tr>\n",
       "      <th>295</th>\n",
       "      <td>Mode féminine d'été sans manches col en V crân...</td>\n",
       "      <td>13.0</td>\n",
       "      <td>85</td>\n",
       "      <td>100</td>\n",
       "      <td>No</td>\n",
       "      <td>4.11</td>\n",
       "      <td>47</td>\n",
       "      <td>No</td>\n",
       "      <td>Buena</td>\n",
       "      <td>No</td>\n",
       "      <td>Summer,Fashion,skull,skullprint,Mini,Dress,sum...</td>\n",
       "      <td>brown</td>\n",
       "      <td>S</td>\n",
       "      <td>Livraison standard</td>\n",
       "      <td>3</td>\n",
       "      <td>No</td>\n",
       "      <td>40</td>\n",
       "      <td>50</td>\n",
       "      <td>CN</td>\n",
       "      <td>tingshen</td>\n",
       "      <td>82 % avis positifs</td>\n",
       "      <td>9078</td>\n",
       "      <td>58ff26fc42fc6a113afae083</td>\n",
       "      <td>https://www.wish.com/c/5e3e5bf39052fe07808a7adc</td>\n",
       "      <td>5e3e5bf39052fe07808a7adc</td>\n",
       "      <td>2</td>\n",
       "      <td>200</td>\n",
       "      <td>100.0</td>\n",
       "      <td>3.878</td>\n",
       "      <td>10.00</td>\n",
       "      <td>64.0</td>\n",
       "      <td>34.0</td>\n",
       "      <td>-84.71</td>\n",
       "      <td>Regular</td>\n",
       "      <td>6.0</td>\n",
       "      <td>4.0</td>\n",
       "      <td>4.0</td>\n",
       "      <td>4.0</td>\n",
       "      <td>29.0</td>\n",
       "    </tr>\n",
       "    <tr>\n",
       "      <th>425</th>\n",
       "      <td>Nouveau mode féminine d'été sans manches Sexy ...</td>\n",
       "      <td>3.0</td>\n",
       "      <td>3</td>\n",
       "      <td>100</td>\n",
       "      <td>No</td>\n",
       "      <td>3.40</td>\n",
       "      <td>15</td>\n",
       "      <td>No</td>\n",
       "      <td>Buena</td>\n",
       "      <td>No</td>\n",
       "      <td>tank top women,Vest,Fashion,Cotton T Shirt,tun...</td>\n",
       "      <td>beige</td>\n",
       "      <td>XS</td>\n",
       "      <td>Livraison standard</td>\n",
       "      <td>1</td>\n",
       "      <td>No</td>\n",
       "      <td>36</td>\n",
       "      <td>50</td>\n",
       "      <td>CN</td>\n",
       "      <td>yqlili666</td>\n",
       "      <td>81 % avis positifs</td>\n",
       "      <td>268</td>\n",
       "      <td>5d454f4056a26067881bb903</td>\n",
       "      <td>https://www.wish.com/c/5e79a626daa3f125000815ad</td>\n",
       "      <td>5e79a626daa3f125000815ad</td>\n",
       "      <td>2</td>\n",
       "      <td>150</td>\n",
       "      <td>75.0</td>\n",
       "      <td>3.892</td>\n",
       "      <td>3.83</td>\n",
       "      <td>3.5</td>\n",
       "      <td>8.0</td>\n",
       "      <td>0.00</td>\n",
       "      <td>Regular</td>\n",
       "      <td>3.0</td>\n",
       "      <td>2.0</td>\n",
       "      <td>3.0</td>\n",
       "      <td>2.0</td>\n",
       "      <td>5.0</td>\n",
       "    </tr>\n",
       "  </tbody>\n",
       "</table>\n",
       "</div>"
      ],
      "text/plain": [
       "                                                 title  price  retail_price  \\\n",
       "295  Mode féminine d'été sans manches col en V crân...   13.0            85   \n",
       "425  Nouveau mode féminine d'été sans manches Sexy ...    3.0             3   \n",
       "\n",
       "     units_sold uses_ad_boosts  rating_sold  rating_count badge_local_product  \\\n",
       "295         100             No         4.11            47                  No   \n",
       "425         100             No         3.40            15                  No   \n",
       "\n",
       "    badge_product_quality badge_fast_shipping  \\\n",
       "295                 Buena                  No   \n",
       "425                 Buena                  No   \n",
       "\n",
       "                                                  tags product_color  \\\n",
       "295  Summer,Fashion,skull,skullprint,Mini,Dress,sum...         brown   \n",
       "425  tank top women,Vest,Fashion,Cotton T Shirt,tun...         beige   \n",
       "\n",
       "    product_variation_size_id shipping_option_name  shipping_option_price  \\\n",
       "295                         S   Livraison standard                      3   \n",
       "425                        XS   Livraison standard                      1   \n",
       "\n",
       "    shipping_is_express  countries_shipped_to  inventory_total origin_country  \\\n",
       "295                  No                    40               50             CN   \n",
       "425                  No                    36               50             CN   \n",
       "\n",
       "    merchant_name merchant_info_subtitle  merchant_rating_count  \\\n",
       "295      tingshen    82 % avis positifs                    9078   \n",
       "425     yqlili666    81 % avis positifs                     268   \n",
       "\n",
       "                  merchant_id  \\\n",
       "295  58ff26fc42fc6a113afae083   \n",
       "425  5d454f4056a26067881bb903   \n",
       "\n",
       "                                         product_url  \\\n",
       "295  https://www.wish.com/c/5e3e5bf39052fe07808a7adc   \n",
       "425  https://www.wish.com/c/5e79a626daa3f125000815ad   \n",
       "\n",
       "                   product_id  listed_products  total_units_sold  \\\n",
       "295  5e3e5bf39052fe07808a7adc                2               200   \n",
       "425  5e79a626daa3f125000815ad                2               150   \n",
       "\n",
       "     mean_units_sold_per_product  rating_employee  mean_product_prices  \\\n",
       "295                        100.0            3.878                10.00   \n",
       "425                         75.0            3.892                 3.83   \n",
       "\n",
       "     mean_retail_prices  mean_product_ratings_count  discount_percentage  \\\n",
       "295                64.0                        34.0               -84.71   \n",
       "425                 3.5                         8.0                 0.00   \n",
       "\n",
       "    seller_reputation  rating_four_count  rating_three_count  \\\n",
       "295           Regular                6.0                 4.0   \n",
       "425           Regular                3.0                 2.0   \n",
       "\n",
       "     rating_two_count  rating_one_count  rating_five_count  \n",
       "295               4.0               4.0               29.0  \n",
       "425               3.0               2.0                5.0  "
      ]
     },
     "execution_count": 8,
     "metadata": {},
     "output_type": "execute_result"
    }
   ],
   "source": [
    "df.sample(2)"
   ]
  },
  {
   "cell_type": "code",
   "execution_count": 9,
   "metadata": {},
   "outputs": [
    {
     "name": "stdout",
     "output_type": "stream",
     "text": [
      "<class 'pandas.core.frame.DataFrame'>\n",
      "Index: 1573 entries, 0 to 1572\n",
      "Data columns (total 39 columns):\n",
      " #   Column                       Non-Null Count  Dtype  \n",
      "---  ------                       --------------  -----  \n",
      " 0   title                        1573 non-null   object \n",
      " 1   price                        1573 non-null   float64\n",
      " 2   retail_price                 1573 non-null   int64  \n",
      " 3   units_sold                   1573 non-null   int64  \n",
      " 4   uses_ad_boosts               1573 non-null   object \n",
      " 5   rating_sold                  1573 non-null   float64\n",
      " 6   rating_count                 1573 non-null   int64  \n",
      " 7   badge_local_product          1573 non-null   object \n",
      " 8   badge_product_quality        1573 non-null   object \n",
      " 9   badge_fast_shipping          1573 non-null   object \n",
      " 10  tags                         1573 non-null   object \n",
      " 11  product_color                1573 non-null   object \n",
      " 12  product_variation_size_id    1573 non-null   object \n",
      " 13  shipping_option_name         1573 non-null   object \n",
      " 14  shipping_option_price        1573 non-null   int64  \n",
      " 15  shipping_is_express          1573 non-null   object \n",
      " 16  countries_shipped_to         1573 non-null   int64  \n",
      " 17  inventory_total              1573 non-null   int64  \n",
      " 18  origin_country               1573 non-null   object \n",
      " 19  merchant_name                1573 non-null   object \n",
      " 20  merchant_info_subtitle       1573 non-null   object \n",
      " 21  merchant_rating_count        1573 non-null   int64  \n",
      " 22  merchant_id                  1573 non-null   object \n",
      " 23  product_url                  1573 non-null   object \n",
      " 24  product_id                   1573 non-null   object \n",
      " 25  listed_products              1573 non-null   int64  \n",
      " 26  total_units_sold             1573 non-null   int64  \n",
      " 27  mean_units_sold_per_product  1573 non-null   float64\n",
      " 28  rating_employee              1573 non-null   float64\n",
      " 29  mean_product_prices          1573 non-null   float64\n",
      " 30  mean_retail_prices           1573 non-null   float64\n",
      " 31  mean_product_ratings_count   1573 non-null   float64\n",
      " 32  discount_percentage          1573 non-null   float64\n",
      " 33  seller_reputation            1573 non-null   object \n",
      " 34  rating_four_count            1573 non-null   float64\n",
      " 35  rating_three_count           1573 non-null   float64\n",
      " 36  rating_two_count             1573 non-null   float64\n",
      " 37  rating_one_count             1573 non-null   float64\n",
      " 38  rating_five_count            1573 non-null   float64\n",
      "dtypes: float64(13), int64(9), object(17)\n",
      "memory usage: 491.6+ KB\n"
     ]
    }
   ],
   "source": [
    "df.info()"
   ]
  },
  {
   "cell_type": "markdown",
   "metadata": {},
   "source": [
    "# Ejercicios"
   ]
  },
  {
   "cell_type": "markdown",
   "metadata": {},
   "source": [
    "1. ¿Qué porcentaje de productos tiene el distintivo \"Producto local\"?"
   ]
  },
  {
   "cell_type": "code",
   "execution_count": 12,
   "metadata": {},
   "outputs": [
    {
     "data": {
      "text/html": [
       "<div>\n",
       "<style scoped>\n",
       "    .dataframe tbody tr th:only-of-type {\n",
       "        vertical-align: middle;\n",
       "    }\n",
       "\n",
       "    .dataframe tbody tr th {\n",
       "        vertical-align: top;\n",
       "    }\n",
       "\n",
       "    .dataframe thead th {\n",
       "        text-align: right;\n",
       "    }\n",
       "</style>\n",
       "<table border=\"1\" class=\"dataframe\">\n",
       "  <thead>\n",
       "    <tr style=\"text-align: right;\">\n",
       "      <th></th>\n",
       "      <th>badge_local_product</th>\n",
       "      <th>product_id</th>\n",
       "    </tr>\n",
       "  </thead>\n",
       "  <tbody>\n",
       "    <tr>\n",
       "      <th>0</th>\n",
       "      <td>No</td>\n",
       "      <td>1544</td>\n",
       "    </tr>\n",
       "    <tr>\n",
       "      <th>1</th>\n",
       "      <td>Si</td>\n",
       "      <td>29</td>\n",
       "    </tr>\n",
       "  </tbody>\n",
       "</table>\n",
       "</div>"
      ],
      "text/plain": [
       "  badge_local_product  product_id\n",
       "0                  No        1544\n",
       "1                  Si          29"
      ]
     },
     "execution_count": 12,
     "metadata": {},
     "output_type": "execute_result"
    }
   ],
   "source": [
    "df_producto_local = df.groupby(\"badge_local_product\")[\"product_id\"].count().reset_index()\n",
    "df_producto_local"
   ]
  },
  {
   "cell_type": "code",
   "execution_count": 23,
   "metadata": {},
   "outputs": [
    {
     "data": {
      "image/png": "[encoded data removed]",
      "text/plain": [
       "<Figure size 640x480 with 1 Axes>"
      ]
     },
     "metadata": {},
     "output_type": "display_data"
    }
   ],
   "source": [
    "colores = sns.color_palette(\"pastel\") # paleta de colores de seaborn\n",
    "\n",
    "plt.pie(\"product_id\", labels= \"badge_local_product\",\n",
    "        data = df_producto_local, \n",
    "        autopct= '%1.1f%%',\n",
    "        colors = colores, \n",
    "        textprops={'fontsize': 10}, \n",
    "        startangle=90,\n",
    "        wedgeprops = { 'linewidth' : 1, 'edgecolor' : 'white' }) # mejora en los bordes\n",
    "\n",
    "plt.title(\"Porcentaje de productos que tienen distintivo producto local\", fontsize=9) # mejora en el titulo\n",
    "plt.show()"
   ]
  },
  {
   "cell_type": "markdown",
   "metadata": {},
   "source": [
    "2. ¿Qué porcentaje de productos tiene el distintivo \"Buena calidad del producto\"?."
   ]
  },
  {
   "cell_type": "code",
   "execution_count": 25,
   "metadata": {},
   "outputs": [
    {
     "data": {
      "text/html": [
       "<div>\n",
       "<style scoped>\n",
       "    .dataframe tbody tr th:only-of-type {\n",
       "        vertical-align: middle;\n",
       "    }\n",
       "\n",
       "    .dataframe tbody tr th {\n",
       "        vertical-align: top;\n",
       "    }\n",
       "\n",
       "    .dataframe thead th {\n",
       "        text-align: right;\n",
       "    }\n",
       "</style>\n",
       "<table border=\"1\" class=\"dataframe\">\n",
       "  <thead>\n",
       "    <tr style=\"text-align: right;\">\n",
       "      <th></th>\n",
       "      <th>badge_product_quality</th>\n",
       "      <th>product_id</th>\n",
       "    </tr>\n",
       "  </thead>\n",
       "  <tbody>\n",
       "    <tr>\n",
       "      <th>0</th>\n",
       "      <td>Buena</td>\n",
       "      <td>1456</td>\n",
       "    </tr>\n",
       "    <tr>\n",
       "      <th>1</th>\n",
       "      <td>Excelente</td>\n",
       "      <td>117</td>\n",
       "    </tr>\n",
       "  </tbody>\n",
       "</table>\n",
       "</div>"
      ],
      "text/plain": [
       "  badge_product_quality  product_id\n",
       "0                 Buena        1456\n",
       "1             Excelente         117"
      ]
     },
     "execution_count": 25,
     "metadata": {},
     "output_type": "execute_result"
    }
   ],
   "source": [
    "df_producto_calidad = df.groupby(\"badge_product_quality\")[\"product_id\"].count().reset_index()\n",
    "df_producto_calidad"
   ]
  },
  {
   "cell_type": "code",
   "execution_count": 28,
   "metadata": {},
   "outputs": [
    {
     "data": {
      "image/png": "[encoded data removed]",
      "text/plain": [
       "<Figure size 640x480 with 1 Axes>"
      ]
     },
     "metadata": {},
     "output_type": "display_data"
    }
   ],
   "source": [
    "colores = [\"orange\", \"green\"]\n",
    "\n",
    "plt.pie(\"product_id\", labels= \"badge_product_quality\",\n",
    "        data = df_producto_calidad, \n",
    "        autopct= '%1.1f%%',\n",
    "        colors = colores, \n",
    "        textprops={'fontsize': 10}, \n",
    "        startangle=90,\n",
    "        wedgeprops = { 'linewidth' : 1, 'edgecolor' : 'white' }) # mejora en los bordes\n",
    "\n",
    "plt.title(\"Porcentaje de productos que tienen distintivo de buena calidad\", fontsize=9) # mejora en el titulo\n",
    "plt.show()"
   ]
  },
  {
   "cell_type": "markdown",
   "metadata": {},
   "source": [
    "3. ¿Cuál es la relación entre el precio de envío y las unidades vendidas?"
   ]
  },
  {
   "cell_type": "code",
   "execution_count": 30,
   "metadata": {},
   "outputs": [
    {
     "data": {
      "text/plain": [
       "array([   100,  20000,   1000,     10,   5000,  50000,  10000, 100000,\n",
       "           50,      1,      7,      2,      6,      3,      8])"
      ]
     },
     "execution_count": 30,
     "metadata": {},
     "output_type": "execute_result"
    }
   ],
   "source": [
    "df['units_sold'].unique()"
   ]
  },
  {
   "cell_type": "code",
   "execution_count": 29,
   "metadata": {},
   "outputs": [
    {
     "data": {
      "text/plain": [
       "array([ 4,  2,  1,  3,  6,  5,  7, 12])"
      ]
     },
     "execution_count": 29,
     "metadata": {},
     "output_type": "execute_result"
    }
   ],
   "source": [
    "df[\"shipping_option_price\"].unique()"
   ]
  },
  {
   "cell_type": "code",
   "execution_count": 32,
   "metadata": {},
   "outputs": [
    {
     "data": {
      "image/png": "[encoded data removed]",
      "text/plain": [
       "<Figure size 640x480 with 1 Axes>"
      ]
     },
     "metadata": {},
     "output_type": "display_data"
    }
   ],
   "source": [
    "sns.countplot(x = \"units_sold\", \n",
    "              data = df, \n",
    "              palette = \"viridis\", \n",
    "              hue = \"shipping_option_price\")\n",
    "\n",
    "plt.xticks(rotation = 90)\n",
    "plt.title(\"Relación entre el precio de envío y las unidades vendidas\", fontsize=9)\n",
    "plt.xlabel(\"Unidades vendidas\", fontsize = 9)\n",
    "plt.ylabel(\"Conteo\",  fontsize = 9); "
   ]
  },
  {
   "cell_type": "markdown",
   "metadata": {},
   "source": [
    "4. ¿Qué países reciben más productos de este conjunto de datos? Muestra un gráfico de barras horizontales."
   ]
  },
  {
   "cell_type": "code",
   "execution_count": 41,
   "metadata": {},
   "outputs": [
    {
     "data": {
      "text/html": [
       "<div>\n",
       "<style scoped>\n",
       "    .dataframe tbody tr th:only-of-type {\n",
       "        vertical-align: middle;\n",
       "    }\n",
       "\n",
       "    .dataframe tbody tr th {\n",
       "        vertical-align: top;\n",
       "    }\n",
       "\n",
       "    .dataframe thead th {\n",
       "        text-align: right;\n",
       "    }\n",
       "</style>\n",
       "<table border=\"1\" class=\"dataframe\">\n",
       "  <thead>\n",
       "    <tr style=\"text-align: right;\">\n",
       "      <th></th>\n",
       "      <th>countries_shipped_to</th>\n",
       "      <th>product_id</th>\n",
       "    </tr>\n",
       "  </thead>\n",
       "  <tbody>\n",
       "    <tr>\n",
       "      <th>0</th>\n",
       "      <td>6</td>\n",
       "      <td>1</td>\n",
       "    </tr>\n",
       "    <tr>\n",
       "      <th>1</th>\n",
       "      <td>8</td>\n",
       "      <td>6</td>\n",
       "    </tr>\n",
       "    <tr>\n",
       "      <th>2</th>\n",
       "      <td>9</td>\n",
       "      <td>4</td>\n",
       "    </tr>\n",
       "    <tr>\n",
       "      <th>3</th>\n",
       "      <td>10</td>\n",
       "      <td>7</td>\n",
       "    </tr>\n",
       "    <tr>\n",
       "      <th>4</th>\n",
       "      <td>11</td>\n",
       "      <td>2</td>\n",
       "    </tr>\n",
       "    <tr>\n",
       "      <th>...</th>\n",
       "      <td>...</td>\n",
       "      <td>...</td>\n",
       "    </tr>\n",
       "    <tr>\n",
       "      <th>89</th>\n",
       "      <td>135</td>\n",
       "      <td>2</td>\n",
       "    </tr>\n",
       "    <tr>\n",
       "      <th>90</th>\n",
       "      <td>137</td>\n",
       "      <td>3</td>\n",
       "    </tr>\n",
       "    <tr>\n",
       "      <th>91</th>\n",
       "      <td>138</td>\n",
       "      <td>9</td>\n",
       "    </tr>\n",
       "    <tr>\n",
       "      <th>92</th>\n",
       "      <td>139</td>\n",
       "      <td>14</td>\n",
       "    </tr>\n",
       "    <tr>\n",
       "      <th>93</th>\n",
       "      <td>140</td>\n",
       "      <td>3</td>\n",
       "    </tr>\n",
       "  </tbody>\n",
       "</table>\n",
       "<p>94 rows × 2 columns</p>\n",
       "</div>"
      ],
      "text/plain": [
       "    countries_shipped_to  product_id\n",
       "0                      6           1\n",
       "1                      8           6\n",
       "2                      9           4\n",
       "3                     10           7\n",
       "4                     11           2\n",
       "..                   ...         ...\n",
       "89                   135           2\n",
       "90                   137           3\n",
       "91                   138           9\n",
       "92                   139          14\n",
       "93                   140           3\n",
       "\n",
       "[94 rows x 2 columns]"
      ]
     },
     "execution_count": 41,
     "metadata": {},
     "output_type": "execute_result"
    }
   ],
   "source": [
    "df_producto_pais = df.groupby(\"countries_shipped_to\")[\"product_id\"].count().reset_index()\n",
    "df_producto_pais"
   ]
  },
  {
   "cell_type": "code",
   "execution_count": 62,
   "metadata": {},
   "outputs": [
    {
     "name": "stderr",
     "output_type": "stream",
     "text": [
      "C:\\Users\\InvitadoLaptop\\AppData\\Local\\Temp\\ipykernel_11348\\1629834294.py:2: FutureWarning: \n",
      "\n",
      "Passing `palette` without assigning `hue` is deprecated and will be removed in v0.14.0. Assign the `y` variable to `hue` and set `legend=False` for the same effect.\n",
      "\n",
      "  sns.countplot(y=\"countries_shipped_to\",\n"
     ]
    },
    {
     "data": {
      "image/png": "[encoded data removed]",
      "text/plain": [
       "<Figure size 1000x1500 with 1 Axes>"
      ]
     },
     "metadata": {},
     "output_type": "display_data"
    }
   ],
   "source": [
    "\n",
    "plt.figure(figsize=(10, 15))\n",
    "sns.countplot(y=\"countries_shipped_to\",\n",
    "              data=df,\n",
    "              palette=\"viridis\")\n",
    "\n",
    "plt.xlabel(\"Nº productos\", fontsize=9)\n",
    "plt.ylabel(\"Países a los que se envía\", fontsize=9)\n",
    "plt.yticks(rotation=0)  # Rota las etiquetas del eje Y\n",
    "plt.show()"
   ]
  },
  {
   "cell_type": "code",
   "execution_count": 37,
   "metadata": {},
   "outputs": [
    {
     "name": "stderr",
     "output_type": "stream",
     "text": [
      "C:\\Users\\InvitadoLaptop\\AppData\\Local\\Temp\\ipykernel_11348\\688150351.py:6: FutureWarning: \n",
      "\n",
      "Passing `palette` without assigning `hue` is deprecated and will be removed in v0.14.0. Assign the `y` variable to `hue` and set `legend=False` for the same effect.\n",
      "\n",
      "  sns.countplot(y=\"countries_shipped_to\",\n"
     ]
    },
    {
     "data": {
      "image/png": "[encoded data removed]",
      "text/plain": [
       "<Figure size 1000x800 with 1 Axes>"
      ]
     },
     "metadata": {},
     "output_type": "display_data"
    }
   ],
   "source": [
    "top_n = 10  # Número de países principales a mostrar\n",
    "top_countries = df[\"countries_shipped_to\"].value_counts().nlargest(top_n).index\n",
    "df_top_countries = df[df[\"countries_shipped_to\"].isin(top_countries)]\n",
    "\n",
    "plt.figure(figsize=(10, 8))\n",
    "sns.countplot(y=\"countries_shipped_to\",\n",
    "              data=df_top_countries,\n",
    "              palette=\"viridis\")\n",
    "\n",
    "plt.xlabel(\"Nº productos\", fontsize=9)\n",
    "plt.ylabel(\"Países a los que se envía\", fontsize=9)\n",
    "plt.show()"
   ]
  },
  {
   "cell_type": "markdown",
   "metadata": {},
   "source": [
    "5. ¿Cómo varía el precio promedio de los productos por país de origen?"
   ]
  },
  {
   "cell_type": "code",
   "execution_count": 43,
   "metadata": {},
   "outputs": [
    {
     "data": {
      "text/plain": [
       "array(['CN', 'US', 'VE', 'AT', 'SG', 'GB'], dtype=object)"
      ]
     },
     "execution_count": 43,
     "metadata": {},
     "output_type": "execute_result"
    }
   ],
   "source": [
    "df[\"origin_country\"].unique()"
   ]
  },
  {
   "cell_type": "code",
   "execution_count": 45,
   "metadata": {},
   "outputs": [
    {
     "data": {
      "text/html": [
       "<div>\n",
       "<style scoped>\n",
       "    .dataframe tbody tr th:only-of-type {\n",
       "        vertical-align: middle;\n",
       "    }\n",
       "\n",
       "    .dataframe tbody tr th {\n",
       "        vertical-align: top;\n",
       "    }\n",
       "\n",
       "    .dataframe thead th {\n",
       "        text-align: right;\n",
       "    }\n",
       "</style>\n",
       "<table border=\"1\" class=\"dataframe\">\n",
       "  <thead>\n",
       "    <tr style=\"text-align: right;\">\n",
       "      <th></th>\n",
       "      <th>origin_country</th>\n",
       "      <th>price</th>\n",
       "    </tr>\n",
       "  </thead>\n",
       "  <tbody>\n",
       "    <tr>\n",
       "      <th>0</th>\n",
       "      <td>AT</td>\n",
       "      <td>7.000000</td>\n",
       "    </tr>\n",
       "    <tr>\n",
       "      <th>1</th>\n",
       "      <td>CN</td>\n",
       "      <td>8.310665</td>\n",
       "    </tr>\n",
       "    <tr>\n",
       "      <th>2</th>\n",
       "      <td>GB</td>\n",
       "      <td>9.000000</td>\n",
       "    </tr>\n",
       "    <tr>\n",
       "      <th>3</th>\n",
       "      <td>SG</td>\n",
       "      <td>3.380000</td>\n",
       "    </tr>\n",
       "    <tr>\n",
       "      <th>4</th>\n",
       "      <td>US</td>\n",
       "      <td>9.397097</td>\n",
       "    </tr>\n",
       "    <tr>\n",
       "      <th>5</th>\n",
       "      <td>VE</td>\n",
       "      <td>8.298000</td>\n",
       "    </tr>\n",
       "  </tbody>\n",
       "</table>\n",
       "</div>"
      ],
      "text/plain": [
       "  origin_country     price\n",
       "0             AT  7.000000\n",
       "1             CN  8.310665\n",
       "2             GB  9.000000\n",
       "3             SG  3.380000\n",
       "4             US  9.397097\n",
       "5             VE  8.298000"
      ]
     },
     "execution_count": 45,
     "metadata": {},
     "output_type": "execute_result"
    }
   ],
   "source": [
    "df_producto_pais_origen = df.groupby(\"origin_country\")[\"price\"].mean().reset_index()\n",
    "df_producto_pais_origen"
   ]
  },
  {
   "cell_type": "code",
   "execution_count": 58,
   "metadata": {},
   "outputs": [
    {
     "name": "stderr",
     "output_type": "stream",
     "text": [
      "C:\\Users\\InvitadoLaptop\\AppData\\Local\\Temp\\ipykernel_11348\\2466558303.py:2: FutureWarning: \n",
      "\n",
      "Passing `palette` without assigning `hue` is deprecated and will be removed in v0.14.0. Assign the `y` variable to `hue` and set `legend=False` for the same effect.\n",
      "\n",
      "  sns.barplot(x=\"price\",\n"
     ]
    },
    {
     "data": {
      "image/png": "[encoded data removed]",
      "text/plain": [
       "<Figure size 1000x1500 with 1 Axes>"
      ]
     },
     "metadata": {},
     "output_type": "display_data"
    }
   ],
   "source": [
    "plt.figure(figsize=(10, 15))\n",
    "sns.barplot(x=\"price\",\n",
    "            y=\"origin_country\",\n",
    "            data=df_producto_pais_origen,\n",
    "            palette=\"viridis\")\n",
    "\n",
    "plt.title(\"Relación de precio promedio de los productos y país de origen\", fontsize=12)\n",
    "plt.xlabel(\"Precio promedio de los productos\", fontsize=9)\n",
    "plt.ylabel(\"País de origen\", fontsize=9)  \n",
    "plt.show()"
   ]
  }
 ],
 "metadata": {
  "kernelspec": {
   "display_name": "Python 3",
   "language": "python",
   "name": "python3"
  },
  "language_info": {
   "codemirror_mode": {
    "name": "ipython",
    "version": 3
   },
   "file_extension": ".py",
   "mimetype": "text/x-python",
   "name": "python",
   "nbconvert_exporter": "python",
   "pygments_lexer": "ipython3",
   "version": "3.11.9"
  }
 },
 "nbformat": 4,
 "nbformat_minor": 2
}
