{
 "cells": [
  {
   "cell_type": "code",
   "execution_count": 7,
   "metadata": {},
   "outputs": [],
   "source": [
    "import pandas as pd\n",
    "import requests\n",
    "import re\n",
    "import json"
   ]
  },
  {
   "cell_type": "code",
   "execution_count": 8,
   "metadata": {},
   "outputs": [],
   "source": [
    "def llamar_api(url):\n",
    "    \n",
    "    llamada = requests.get(url)  \n",
    "\n",
    "    print(f\"La llamada a la API nos ha dado una respuesta de tipo: {llamada.status_code}\")  \n",
    "\n",
    "    if llamada.status_code != 200:  \n",
    "        print(f\"El motivo por el que la llamada falló es {llamada.reason}\")  \n",
    "    else:\n",
    "        return llamada.json()"
   ]
  },
  {
   "cell_type": "code",
   "execution_count": 9,
   "metadata": {},
   "outputs": [
    {
     "name": "stdout",
     "output_type": "stream",
     "text": [
      "La llamada a la API nos ha dado una respuesta de tipo: 200\n"
     ]
    }
   ],
   "source": [
    "url = f\"https://beta.adalab.es/curso-intensivo-fullstack-recursos/apis/alumnos-v1/alumnos.json\"\n",
    "resultados= llamar_api(url)"
   ]
  },
  {
   "cell_type": "code",
   "execution_count": 11,
   "metadata": {},
   "outputs": [
    {
     "name": "stdout",
     "output_type": "stream",
     "text": [
      "Error: La respuesta de la API no es una lista de alumnos.\n",
      "No se encontraron alumnos en la respuesta de la API.\n"
     ]
    }
   ],
   "source": [
    "def llamar_api(url):\n",
    "    \"\"\"Llama a una API y devuelve el JSON de la respuesta.\"\"\"\n",
    "    try:\n",
    "        response = requests.get(url)\n",
    "        response.raise_for_status()  # Lanza una excepción para códigos de error HTTP\n",
    "        try:\n",
    "            return response.json()  # Intenta decodificar la respuesta como JSON\n",
    "        except json.JSONDecodeError:\n",
    "            print(\"Error: La respuesta de la API no es un JSON válido.\")\n",
    "            return None  # Devuelve None si no se puede decodificar\n",
    "    except requests.exceptions.RequestException as e:\n",
    "        print(f\"Error al llamar a la API: {e}\")\n",
    "        return None\n",
    "\n",
    "url_alumnos = \"https://beta.adalab.es/curso-intensivo-fullstack-recursos/apis/alumnos-v1/alumnos.json\"\n",
    "resultados_alumnos = llamar_api(url_alumnos)\n",
    "\n",
    "alumnos_data = []\n",
    "\n",
    "if resultados_alumnos and isinstance(resultados_alumnos, list):  # Verifica que sea una lista\n",
    "    for alumno in resultados_alumnos:\n",
    "        alumnos_data.append({\n",
    "            \"id\": alumno[\"id\"],\n",
    "            \"nombre\": alumno[\"nombre\"],\n",
    "            \"apellido\": alumno[\"apellido\"]\n",
    "        })\n",
    "elif resultados_alumnos is not None:\n",
    "    print(\"Error: La respuesta de la API no es una lista de alumnos.\")\n",
    "\n",
    "if alumnos_data:\n",
    "    df_alumnos = pd.DataFrame(alumnos_data)\n",
    "    print(df_alumnos)  # Agregamos un print para ver el DataFrame\n",
    "else:\n",
    "    print(\"No se encontraron alumnos en la respuesta de la API.\")\n"
   ]
  }
 ],
 "metadata": {
  "kernelspec": {
   "display_name": "Python 3",
   "language": "python",
   "name": "python3"
  },
  "language_info": {
   "codemirror_mode": {
    "name": "ipython",
    "version": 3
   },
   "file_extension": ".py",
   "mimetype": "text/x-python",
   "name": "python",
   "nbconvert_exporter": "python",
   "pygments_lexer": "ipython3",
   "version": "3.11.9"
  }
 },
 "nbformat": 4,
 "nbformat_minor": 2
}
