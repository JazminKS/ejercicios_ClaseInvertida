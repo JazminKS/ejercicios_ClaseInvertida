{
 "cells": [
  {
   "cell_type": "markdown",
   "metadata": {},
   "source": [
    "## EJERCICIOS"
   ]
  },
  {
   "cell_type": "markdown",
   "metadata": {},
   "source": [
    "Escribe un script en Python utilizando Selenium que realice las siguientes tareas en la página web del Decathlon:\n",
    "\n",
    "1. Abra una el navegador y maximice la ventana.\n",
    "\n",
    "2. Acceda al sitio web de Decathlon en la URL \"https://www.decathlon.es/\"."
   ]
  },
  {
   "cell_type": "code",
   "execution_count": 1,
   "metadata": {},
   "outputs": [
    {
     "name": "stdout",
     "output_type": "stream",
     "text": [
      "Requirement already satisfied: selenium in c:\\users\\invitadolaptop\\appdata\\local\\packages\\pythonsoftwarefoundation.python.3.11_qbz5n2kfra8p0\\localcache\\local-packages\\python311\\site-packages (4.29.0)\n",
      "Requirement already satisfied: urllib3<3,>=1.26 in c:\\users\\invitadolaptop\\appdata\\local\\packages\\pythonsoftwarefoundation.python.3.11_qbz5n2kfra8p0\\localcache\\local-packages\\python311\\site-packages (from urllib3[socks]<3,>=1.26->selenium) (2.3.0)\n",
      "Requirement already satisfied: trio~=0.17 in c:\\users\\invitadolaptop\\appdata\\local\\packages\\pythonsoftwarefoundation.python.3.11_qbz5n2kfra8p0\\localcache\\local-packages\\python311\\site-packages (from selenium) (0.29.0)\n",
      "Requirement already satisfied: trio-websocket~=0.9 in c:\\users\\invitadolaptop\\appdata\\local\\packages\\pythonsoftwarefoundation.python.3.11_qbz5n2kfra8p0\\localcache\\local-packages\\python311\\site-packages (from selenium) (0.12.2)\n",
      "Requirement already satisfied: certifi>=2021.10.8 in c:\\users\\invitadolaptop\\appdata\\local\\packages\\pythonsoftwarefoundation.python.3.11_qbz5n2kfra8p0\\localcache\\local-packages\\python311\\site-packages (from selenium) (2025.1.31)\n",
      "Requirement already satisfied: typing_extensions~=4.9 in c:\\users\\invitadolaptop\\appdata\\local\\packages\\pythonsoftwarefoundation.python.3.11_qbz5n2kfra8p0\\localcache\\local-packages\\python311\\site-packages (from selenium) (4.12.2)\n",
      "Requirement already satisfied: websocket-client~=1.8 in c:\\users\\invitadolaptop\\appdata\\local\\packages\\pythonsoftwarefoundation.python.3.11_qbz5n2kfra8p0\\localcache\\local-packages\\python311\\site-packages (from selenium) (1.8.0)\n",
      "Requirement already satisfied: attrs>=23.2.0 in c:\\users\\invitadolaptop\\appdata\\local\\packages\\pythonsoftwarefoundation.python.3.11_qbz5n2kfra8p0\\localcache\\local-packages\\python311\\site-packages (from trio~=0.17->selenium) (25.1.0)\n",
      "Requirement already satisfied: sortedcontainers in c:\\users\\invitadolaptop\\appdata\\local\\packages\\pythonsoftwarefoundation.python.3.11_qbz5n2kfra8p0\\localcache\\local-packages\\python311\\site-packages (from trio~=0.17->selenium) (2.4.0)\n",
      "Requirement already satisfied: idna in c:\\users\\invitadolaptop\\appdata\\local\\packages\\pythonsoftwarefoundation.python.3.11_qbz5n2kfra8p0\\localcache\\local-packages\\python311\\site-packages (from trio~=0.17->selenium) (3.10)\n",
      "Requirement already satisfied: outcome in c:\\users\\invitadolaptop\\appdata\\local\\packages\\pythonsoftwarefoundation.python.3.11_qbz5n2kfra8p0\\localcache\\local-packages\\python311\\site-packages (from trio~=0.17->selenium) (1.3.0.post0)\n",
      "Requirement already satisfied: sniffio>=1.3.0 in c:\\users\\invitadolaptop\\appdata\\local\\packages\\pythonsoftwarefoundation.python.3.11_qbz5n2kfra8p0\\localcache\\local-packages\\python311\\site-packages (from trio~=0.17->selenium) (1.3.1)\n",
      "Requirement already satisfied: cffi>=1.14 in c:\\users\\invitadolaptop\\appdata\\local\\packages\\pythonsoftwarefoundation.python.3.11_qbz5n2kfra8p0\\localcache\\local-packages\\python311\\site-packages (from trio~=0.17->selenium) (1.17.1)\n",
      "Requirement already satisfied: wsproto>=0.14 in c:\\users\\invitadolaptop\\appdata\\local\\packages\\pythonsoftwarefoundation.python.3.11_qbz5n2kfra8p0\\localcache\\local-packages\\python311\\site-packages (from trio-websocket~=0.9->selenium) (1.2.0)\n",
      "Requirement already satisfied: pysocks!=1.5.7,<2.0,>=1.5.6 in c:\\users\\invitadolaptop\\appdata\\local\\packages\\pythonsoftwarefoundation.python.3.11_qbz5n2kfra8p0\\localcache\\local-packages\\python311\\site-packages (from urllib3[socks]<3,>=1.26->selenium) (1.7.1)\n",
      "Requirement already satisfied: pycparser in c:\\users\\invitadolaptop\\appdata\\local\\packages\\pythonsoftwarefoundation.python.3.11_qbz5n2kfra8p0\\localcache\\local-packages\\python311\\site-packages (from cffi>=1.14->trio~=0.17->selenium) (2.22)\n",
      "Requirement already satisfied: h11<1,>=0.9.0 in c:\\users\\invitadolaptop\\appdata\\local\\packages\\pythonsoftwarefoundation.python.3.11_qbz5n2kfra8p0\\localcache\\local-packages\\python311\\site-packages (from wsproto>=0.14->trio-websocket~=0.9->selenium) (0.14.0)\n"
     ]
    },
    {
     "name": "stderr",
     "output_type": "stream",
     "text": [
      "\n",
      "[notice] A new release of pip is available: 24.0 -> 25.0.1\n",
      "[notice] To update, run: C:\\Users\\InvitadoLaptop\\AppData\\Local\\Microsoft\\WindowsApps\\PythonSoftwareFoundation.Python.3.11_qbz5n2kfra8p0\\python.exe -m pip install --upgrade pip\n"
     ]
    },
    {
     "name": "stdout",
     "output_type": "stream",
     "text": [
      "Requirement already satisfied: webdriver-manager in c:\\users\\invitadolaptop\\appdata\\local\\packages\\pythonsoftwarefoundation.python.3.11_qbz5n2kfra8p0\\localcache\\local-packages\\python311\\site-packages (4.0.2)\n",
      "Requirement already satisfied: requests in c:\\users\\invitadolaptop\\appdata\\local\\packages\\pythonsoftwarefoundation.python.3.11_qbz5n2kfra8p0\\localcache\\local-packages\\python311\\site-packages (from webdriver-manager) (2.32.3)\n",
      "Requirement already satisfied: python-dotenv in c:\\users\\invitadolaptop\\appdata\\local\\packages\\pythonsoftwarefoundation.python.3.11_qbz5n2kfra8p0\\localcache\\local-packages\\python311\\site-packages (from webdriver-manager) (1.0.1)\n",
      "Requirement already satisfied: packaging in c:\\users\\invitadolaptop\\appdata\\local\\packages\\pythonsoftwarefoundation.python.3.11_qbz5n2kfra8p0\\localcache\\local-packages\\python311\\site-packages (from webdriver-manager) (24.2)\n",
      "Requirement already satisfied: charset-normalizer<4,>=2 in c:\\users\\invitadolaptop\\appdata\\local\\packages\\pythonsoftwarefoundation.python.3.11_qbz5n2kfra8p0\\localcache\\local-packages\\python311\\site-packages (from requests->webdriver-manager) (3.4.1)\n",
      "Requirement already satisfied: idna<4,>=2.5 in c:\\users\\invitadolaptop\\appdata\\local\\packages\\pythonsoftwarefoundation.python.3.11_qbz5n2kfra8p0\\localcache\\local-packages\\python311\\site-packages (from requests->webdriver-manager) (3.10)\n",
      "Requirement already satisfied: urllib3<3,>=1.21.1 in c:\\users\\invitadolaptop\\appdata\\local\\packages\\pythonsoftwarefoundation.python.3.11_qbz5n2kfra8p0\\localcache\\local-packages\\python311\\site-packages (from requests->webdriver-manager) (2.3.0)\n",
      "Requirement already satisfied: certifi>=2017.4.17 in c:\\users\\invitadolaptop\\appdata\\local\\packages\\pythonsoftwarefoundation.python.3.11_qbz5n2kfra8p0\\localcache\\local-packages\\python311\\site-packages (from requests->webdriver-manager) (2025.1.31)\n"
     ]
    },
    {
     "name": "stderr",
     "output_type": "stream",
     "text": [
      "\n",
      "[notice] A new release of pip is available: 24.0 -> 25.0.1\n",
      "[notice] To update, run: C:\\Users\\InvitadoLaptop\\AppData\\Local\\Microsoft\\WindowsApps\\PythonSoftwareFoundation.Python.3.11_qbz5n2kfra8p0\\python.exe -m pip install --upgrade pip\n"
     ]
    }
   ],
   "source": [
    "!pip install selenium\n",
    "!pip install webdriver-manager"
   ]
  },
  {
   "cell_type": "code",
   "execution_count": 2,
   "metadata": {},
   "outputs": [],
   "source": [
    "import pandas as pd\n",
    "from bs4 import BeautifulSoup\n",
    "import requests\n",
    "\n",
    "from selenium import webdriver  \n",
    "from webdriver_manager.chrome import ChromeDriverManager  \n",
    "from selenium.webdriver.common.keys import Keys \n",
    "from selenium.webdriver.support.ui import Select \n",
    "\n",
    "from time import sleep\n",
    "\n",
    "pd.set_option('display.max_columns', None)"
   ]
  },
  {
   "cell_type": "code",
   "execution_count": 3,
   "metadata": {},
   "outputs": [],
   "source": [
    "driver=webdriver.Chrome()\n",
    "\n",
    "driver.get(\"https://www.decathlon.es/\")\n"
   ]
  },
  {
   "cell_type": "markdown",
   "metadata": {},
   "source": [
    "3. Haga clic en el botón \"Aceptar\" en la notificación de cookies utilizando su selector CSS."
   ]
  },
  {
   "cell_type": "code",
   "execution_count": 5,
   "metadata": {},
   "outputs": [],
   "source": [
    "driver=webdriver.Chrome()\n",
    "\n",
    "driver.get(\"https://www.decathlon.es/\")\n",
    "\n",
    "sleep(3)\n",
    "\n",
    "driver.find_element(\"css selector\", \"#didomi-notice-agree-button\").click()\n",
    "\n",
    "sleep(5)"
   ]
  },
  {
   "cell_type": "markdown",
   "metadata": {},
   "source": [
    "4. Solicite al usuario que ingrese una búsqueda (por ejemplo, un producto deportivo) mediante una entrada de texto.\n",
    "\n",
    "5. Utilice el texto ingresado para buscar productos en el sitio web de Decathlon y presione la tecla \"Enter\" para iniciar la búsqueda."
   ]
  },
  {
   "cell_type": "code",
   "execution_count": 8,
   "metadata": {},
   "outputs": [],
   "source": [
    "driver=webdriver.Chrome()\n",
    "\n",
    "driver.get(\"https://www.decathlon.es/\")\n",
    "\n",
    "driver.maximize_window()\n",
    "\n",
    "sleep(3)\n",
    "\n",
    "driver.find_element(\"css selector\", \"#didomi-notice-agree-button\").click()\n",
    "\n",
    "sleep(2)\n",
    "\n",
    "driver.find_element(\"css selector\", \"#search-bar > div > form > div > input\").send_keys(\"camiseta\", Keys.ENTER)\n",
    "\n",
    "sleep(3)\n",
    "\n",
    "driver.execute_script(\"window.scrollTo(0, 200)\")\n"
   ]
  },
  {
   "cell_type": "markdown",
   "metadata": {},
   "source": [
    "6. Inicialice un diccionario llamado diccionario_resultados con tres listas vacías: \"nombre\", \"precio\" y \"puntuación\".\n",
    "\n",
    "7. Itere sobre los primeros 5 resultados de la búsqueda y realice las siguientes acciones:\n",
    "\n",
    "   a. Haga clic en un resultado específico. \n",
    "   \n",
    "   b. Recopile el nombre del producto, el precio y la puntuación del producto y almacénelos en las listas correspondientes en el diccionario diccionario_resultados.\n",
    "\n",
    "   c. Navegue de regreso a los resultados de búsqueda."
   ]
  },
  {
   "cell_type": "code",
   "execution_count": null,
   "metadata": {},
   "outputs": [],
   "source": [
    "driver=webdriver.Chrome()\n",
    "\n",
    "driver.get(\"https://www.decathlon.es/\")\n",
    "\n",
    "driver.maximize_window()\n",
    "\n",
    "sleep(3)\n",
    "\n",
    "driver.find_element(\"css selector\", \"#didomi-notice-agree-button\").click()\n",
    "\n",
    "sleep(2)\n",
    "\n",
    "driver.find_element(\"css selector\", \"#search-bar > div > form > div > input\").send_keys(\"camiseta\", Keys.ENTER)\n",
    "\n",
    "sleep(3)\n",
    "\n",
    "driver.execute_script(\"window.scrollTo(0, 200)\")\n",
    "\n",
    "diccionario_resultado={\"nombre\": [], \n",
    "                 \"precio\": [],\n",
    "                 \"puntuacion\": []}\n",
    "\n",
    "sleep(3)\n",
    "\n",
    "driver.find_element(\"css selector\", \"#app > main > div.list-body.svelte-duar7s > section.listing-section.svelte-duar7s > div > div:nth-child(1) > div.product-block-top-main.vtmn-relative.vtmn-flex.vtmn-flex-col.vtmn-w-full.vtmn-items-start > div.dpb-models.vtmn-relative.vtmn-self-center.svelte-1ambt2m > div > a > img\").click()\n",
    "\n",
    "sleep(3)\n",
    "\n",
    "nombre=driver.find_element(\"css selector\", \"#app > main > article > div.vtmn-relative.vtmn-z-\\[2\\] > section > h1\"). text\n",
    "precio=driver.find_element(\"css selector\", \"#app > main > article > div.vtmn-relative.vtmn-z-\\[2\\] > section > div.price-presentation.vtmn-flex.vtmn-flex-col.vtmn-items-start.vtmn-leading-tight.vtmn-mt-2.svelte-1wujduz > div > div > div > span\"). text\n",
    "puntuacion=driver.find_element(\"css selector\", \"#app > main > article > div.vtmn-relative.vtmn-z-\\[2\\] > section > div.vtmn-relative.vtmn-bg-background-primary > button > div.vtmn-rating.vtmn-rating_size--small.vtmn-fux-rating-variant-accent > span.vtmn-rating_comment--primary\"). text\n",
    "\n",
    "diccionario_resultado[\"nombre\"].append(nombre)\n",
    "diccionario_resultado[\"precio\"].append(precio)\n",
    "diccionario_resultado[\"puntuacion\"].append(puntuacion)\n",
    "\n"
   ]
  },
  {
   "cell_type": "code",
   "execution_count": 14,
   "metadata": {},
   "outputs": [
    {
     "data": {
      "text/plain": [
       "{'nombre': ['Camiseta fitness 500 essential Domyos Mujer azul índigo'],\n",
       " 'precio': ['3,99€'],\n",
       " 'puntuacion': ['4.6/5']}"
      ]
     },
     "execution_count": 14,
     "metadata": {},
     "output_type": "execute_result"
    }
   ],
   "source": [
    "diccionario_resultado"
   ]
  },
  {
   "cell_type": "code",
   "execution_count": 15,
   "metadata": {},
   "outputs": [],
   "source": [
    "driver=webdriver.Chrome()\n",
    "\n",
    "driver.get(\"https://www.decathlon.es/\")\n",
    "\n",
    "driver.maximize_window()\n",
    "\n",
    "sleep(3)\n",
    "\n",
    "driver.find_element(\"css selector\", \"#didomi-notice-agree-button\").click()\n",
    "\n",
    "sleep(2)\n",
    "\n",
    "driver.find_element(\"css selector\", \"#search-bar > div > form > div > input\").send_keys(\"camiseta\", Keys.ENTER)\n",
    "\n",
    "sleep(3)\n",
    "\n",
    "driver.execute_script(\"window.scrollTo(0, 200)\")\n",
    "\n",
    "diccionario_resultado={\"nombre\": [], \n",
    "                 \"precio\": [],\n",
    "                 \"puntuacion\": []}\n",
    "\n",
    "sleep(3)\n",
    "\n",
    "for i in range (1, 6):\n",
    "    driver.find_element(\"css selector\", f\"#app > main > div.list-body.svelte-duar7s > section.listing-section.svelte-duar7s > div > div:nth-child({i}) > div.product-block-top-main.vtmn-relative.vtmn-flex.vtmn-flex-col.vtmn-w-full.vtmn-items-start > div.dpb-models.vtmn-relative.vtmn-self-center.svelte-1ambt2m > div > a > img\").click()\n",
    "\n",
    "    sleep(3)\n",
    "\n",
    "    nombre=driver.find_element(\"css selector\", \"#app > main > article > div.vtmn-relative.vtmn-z-\\[2\\] > section > h1\"). text\n",
    "    precio=driver.find_element(\"css selector\", \"#app > main > article > div.vtmn-relative.vtmn-z-\\[2\\] > section > div.price-presentation.vtmn-flex.vtmn-flex-col.vtmn-items-start.vtmn-leading-tight.vtmn-mt-2.svelte-1wujduz > div > div > div > span\"). text\n",
    "    puntuacion=driver.find_element(\"css selector\", \"#app > main > article > div.vtmn-relative.vtmn-z-\\[2\\] > section > div.vtmn-relative.vtmn-bg-background-primary > button > div.vtmn-rating.vtmn-rating_size--small.vtmn-fux-rating-variant-accent > span.vtmn-rating_comment--primary\"). text\n",
    "\n",
    "    diccionario_resultado[\"nombre\"].append(nombre)\n",
    "    diccionario_resultado[\"precio\"].append(precio)\n",
    "    diccionario_resultado[\"puntuacion\"].append(puntuacion)\n",
    "\n",
    "    sleep (2)\n",
    "    driver.back()\n",
    "\n",
    "driver.close()"
   ]
  },
  {
   "cell_type": "markdown",
   "metadata": {},
   "source": [
    "8. Cierre el navegador Chrome.\n",
    "\n",
    "El resultado final debería ser un diccionario con información sobre los primeros 5 productos encontrados durante la búsqueda en el sitio web de Decathlon, incluyendo el nombre del producto, el precio y la puntuación. Muéstralo en un DataFrame similar al ves a continuación:"
   ]
  },
  {
   "cell_type": "code",
   "execution_count": 16,
   "metadata": {},
   "outputs": [
    {
     "data": {
      "text/html": [
       "<div>\n",
       "<style scoped>\n",
       "    .dataframe tbody tr th:only-of-type {\n",
       "        vertical-align: middle;\n",
       "    }\n",
       "\n",
       "    .dataframe tbody tr th {\n",
       "        vertical-align: top;\n",
       "    }\n",
       "\n",
       "    .dataframe thead th {\n",
       "        text-align: right;\n",
       "    }\n",
       "</style>\n",
       "<table border=\"1\" class=\"dataframe\">\n",
       "  <thead>\n",
       "    <tr style=\"text-align: right;\">\n",
       "      <th></th>\n",
       "      <th>nombre</th>\n",
       "      <th>precio</th>\n",
       "      <th>puntuacion</th>\n",
       "    </tr>\n",
       "  </thead>\n",
       "  <tbody>\n",
       "    <tr>\n",
       "      <th>0</th>\n",
       "      <td>Camiseta fitness 500 essential Domyos Mujer az...</td>\n",
       "      <td>3,99€</td>\n",
       "      <td>4.6/5</td>\n",
       "    </tr>\n",
       "    <tr>\n",
       "      <th>1</th>\n",
       "      <td>Camiseta Fitness 100 Sportee Hombre Negra</td>\n",
       "      <td>4,99€</td>\n",
       "      <td>4.5/5</td>\n",
       "    </tr>\n",
       "    <tr>\n",
       "      <th>2</th>\n",
       "      <td>Camiseta de Running transpirable mujer - Kipru...</td>\n",
       "      <td>5,99€</td>\n",
       "      <td>4.8/5</td>\n",
       "    </tr>\n",
       "    <tr>\n",
       "      <th>3</th>\n",
       "      <td>Camiseta fitness manga corta transpirable cuel...</td>\n",
       "      <td>5,99€</td>\n",
       "      <td>4.7/5</td>\n",
       "    </tr>\n",
       "    <tr>\n",
       "      <th>4</th>\n",
       "      <td>Camiseta de montaña y trekking manga corta Hom...</td>\n",
       "      <td>6,99€</td>\n",
       "      <td>4.8/5</td>\n",
       "    </tr>\n",
       "  </tbody>\n",
       "</table>\n",
       "</div>"
      ],
      "text/plain": [
       "                                              nombre precio puntuacion\n",
       "0  Camiseta fitness 500 essential Domyos Mujer az...  3,99€      4.6/5\n",
       "1          Camiseta Fitness 100 Sportee Hombre Negra  4,99€      4.5/5\n",
       "2  Camiseta de Running transpirable mujer - Kipru...  5,99€      4.8/5\n",
       "3  Camiseta fitness manga corta transpirable cuel...  5,99€      4.7/5\n",
       "4  Camiseta de montaña y trekking manga corta Hom...  6,99€      4.8/5"
      ]
     },
     "execution_count": 16,
     "metadata": {},
     "output_type": "execute_result"
    }
   ],
   "source": [
    "df_resultado=pd.DataFrame(diccionario_resultado)\n",
    "\n",
    "df_resultado"
   ]
  }
 ],
 "metadata": {
  "kernelspec": {
   "display_name": "Python 3",
   "language": "python",
   "name": "python3"
  },
  "language_info": {
   "codemirror_mode": {
    "name": "ipython",
    "version": 3
   },
   "file_extension": ".py",
   "mimetype": "text/x-python",
   "name": "python",
   "nbconvert_exporter": "python",
   "pygments_lexer": "ipython3",
   "version": "3.11.9"
  }
 },
 "nbformat": 4,
 "nbformat_minor": 2
}
