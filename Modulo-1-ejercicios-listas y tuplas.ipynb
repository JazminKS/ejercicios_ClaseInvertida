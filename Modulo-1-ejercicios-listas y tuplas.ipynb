{
 "cells": [
  {
   "cell_type": "markdown",
   "metadata": {},
   "source": [
    "## EJERCICIOS LISTA"
   ]
  },
  {
   "cell_type": "markdown",
   "metadata": {},
   "source": [
    "1# Haz una lista llamada colores donde almacenemos los primeros 6 colores que te vengan a la mente."
   ]
  },
  {
   "cell_type": "code",
   "execution_count": 3,
   "metadata": {},
   "outputs": [
    {
     "name": "stdout",
     "output_type": "stream",
     "text": [
      "['amarillo', 'verde', 'azul', 'rojo', 'marrón', 'celeste']\n"
     ]
    }
   ],
   "source": [
    "lista_colores=[\"amarillo\", \"verde\", \"azul\", \"rojo\", \"marrón\", \"celeste\"]\n",
    "print(lista_colores)\n"
   ]
  },
  {
   "cell_type": "markdown",
   "metadata": {},
   "source": [
    "2# Haz una lista llamada buses de las líneas de autobuses que pasan por tu casa."
   ]
  },
  {
   "cell_type": "code",
   "execution_count": 4,
   "metadata": {},
   "outputs": [
    {
     "name": "stdout",
     "output_type": "stream",
     "text": [
      "['A123', 'C258', 'D369', 'E489', 'A256', 'A30']\n"
     ]
    }
   ],
   "source": [
    "lista_buses=[\"A123\", \"C258\", \"D369\", \"E489\", \"A256\", \"A30\"]\n",
    "print(lista_buses)\n"
   ]
  },
  {
   "cell_type": "markdown",
   "metadata": {},
   "source": [
    "3# Apunta la previsión de temperaturas máximas para todos los días de esta semana en temperaturas."
   ]
  },
  {
   "cell_type": "code",
   "execution_count": 7,
   "metadata": {},
   "outputs": [
    {
     "name": "stdout",
     "output_type": "stream",
     "text": [
      "[15, 12, 10, 9, 9, 20]\n"
     ]
    }
   ],
   "source": [
    "predicción_temperatura=[15, 12, 10, 9, 9, 20]\n",
    "print(predicción_temperatura)"
   ]
  },
  {
   "cell_type": "markdown",
   "metadata": {},
   "source": [
    "4# Convierte tu(s) nombre(s) a una lista nombres de caracteres."
   ]
  },
  {
   "cell_type": "code",
   "execution_count": 6,
   "metadata": {},
   "outputs": [
    {
     "name": "stdout",
     "output_type": "stream",
     "text": [
      "['Jazmin', 'Kelly']\n",
      "['J', 'a', 'z', 'm', 'i', 'n']\n"
     ]
    }
   ],
   "source": [
    "nombres=[\"Jazmin\", \"Kelly\"]\n",
    "print(nombres)\n",
    "\n",
    "nombres2=\"Jazmin\"\n",
    "nombres2=list(nombres2)\n",
    "print(nombres2)"
   ]
  },
  {
   "cell_type": "markdown",
   "metadata": {},
   "source": [
    "5# Convierte tu(s) apellido(s) a una lista apellidos de caracteres."
   ]
  },
  {
   "cell_type": "code",
   "execution_count": 8,
   "metadata": {},
   "outputs": [
    {
     "name": "stdout",
     "output_type": "stream",
     "text": [
      "['Sanchez', 'Sanchez']\n",
      "['S', 'a', 'n', 'c', 'h', 'e', 'z']\n"
     ]
    }
   ],
   "source": [
    "apellidos=[\"Sanchez\", \"Sanchez\"]\n",
    "print(apellidos)\n",
    "\n",
    "apellidos2=\"Sanchez\"\n",
    "apellidos2=list(apellidos2)\n",
    "print(apellidos2)"
   ]
  },
  {
   "cell_type": "markdown",
   "metadata": {},
   "source": [
    "6# ¿Cuántos búses pasan por tu casa?"
   ]
  },
  {
   "cell_type": "code",
   "execution_count": 10,
   "metadata": {},
   "outputs": [
    {
     "name": "stdout",
     "output_type": "stream",
     "text": [
      "6\n"
     ]
    }
   ],
   "source": [
    "Buses=print(len(lista_buses))\n"
   ]
  },
  {
   "cell_type": "markdown",
   "metadata": {},
   "source": [
    "7# ¿Cuántos caracteres hay en tu apellido(s) (inluyendo los espacios)?"
   ]
  },
  {
   "cell_type": "code",
   "execution_count": 11,
   "metadata": {},
   "outputs": [
    {
     "data": {
      "text/plain": [
       "7"
      ]
     },
     "execution_count": 11,
     "metadata": {},
     "output_type": "execute_result"
    }
   ],
   "source": [
    "len(apellidos2)\n"
   ]
  },
  {
   "cell_type": "markdown",
   "metadata": {},
   "source": [
    "8# ¿Cuáles son las temperaturas máximas (t_max) y mínimas (t_min) para esta semana?"
   ]
  },
  {
   "cell_type": "code",
   "execution_count": 12,
   "metadata": {},
   "outputs": [
    {
     "name": "stdout",
     "output_type": "stream",
     "text": [
      "9\n",
      "20\n"
     ]
    }
   ],
   "source": [
    "minima=min(predicción_temperatura)\n",
    "print(minima)\n",
    "\n",
    "maxima=max(predicción_temperatura)\n",
    "print(maxima)\n"
   ]
  },
  {
   "cell_type": "markdown",
   "metadata": {},
   "source": [
    "9# ¿Hay una 'e' en tu nombre?"
   ]
  },
  {
   "cell_type": "code",
   "execution_count": 13,
   "metadata": {},
   "outputs": [
    {
     "data": {
      "text/plain": [
       "False"
      ]
     },
     "execution_count": 13,
     "metadata": {},
     "output_type": "execute_result"
    }
   ],
   "source": [
    "\"e\" in nombres2"
   ]
  },
  {
   "cell_type": "markdown",
   "metadata": {},
   "source": [
    "10# ¿Tienes el color 'rosa' en la lista de colores?"
   ]
  },
  {
   "cell_type": "code",
   "execution_count": 14,
   "metadata": {},
   "outputs": [
    {
     "data": {
      "text/plain": [
       "False"
      ]
     },
     "execution_count": 14,
     "metadata": {},
     "output_type": "execute_result"
    }
   ],
   "source": [
    "\n",
    "\"rosa\" in lista_colores"
   ]
  },
  {
   "cell_type": "markdown",
   "metadata": {},
   "source": [
    "11# ¿Tiene una 'x' tu nombre? (Usa not in)"
   ]
  },
  {
   "cell_type": "code",
   "execution_count": 15,
   "metadata": {},
   "outputs": [
    {
     "data": {
      "text/plain": [
       "True"
      ]
     },
     "execution_count": 15,
     "metadata": {},
     "output_type": "execute_result"
    }
   ],
   "source": [
    "\"x\" not in nombres2"
   ]
  },
  {
   "cell_type": "markdown",
   "metadata": {},
   "source": [
    "12# Copia el contenido de temperaturas a temperaturas2, y temperaturas3."
   ]
  },
  {
   "cell_type": "code",
   "execution_count": 16,
   "metadata": {},
   "outputs": [
    {
     "data": {
      "text/plain": [
       "[15, 12, 10]"
      ]
     },
     "execution_count": 16,
     "metadata": {},
     "output_type": "execute_result"
    }
   ],
   "source": [
    "predicción_temperatura[:3]"
   ]
  },
  {
   "cell_type": "markdown",
   "metadata": {},
   "source": [
    "13# Vacía el contenido de la variable temperaturas2"
   ]
  },
  {
   "cell_type": "code",
   "execution_count": 17,
   "metadata": {},
   "outputs": [
    {
     "name": "stdout",
     "output_type": "stream",
     "text": [
      "[15, 12, 10, 9, 9, 20]\n",
      "[15, 10, 9, 9, 20]\n"
     ]
    }
   ],
   "source": [
    "prediccion=predicción_temperatura.copy()\n",
    "print(prediccion)\n",
    "\n",
    "prediccion.remove(12)\n",
    "print(prediccion)"
   ]
  },
  {
   "cell_type": "markdown",
   "metadata": {},
   "source": [
    "14# Imprime el contenido de temperaturas y temperaturas2."
   ]
  },
  {
   "cell_type": "code",
   "execution_count": 18,
   "metadata": {},
   "outputs": [
    {
     "data": {
      "text/plain": [
       "[15, 10]"
      ]
     },
     "execution_count": 18,
     "metadata": {},
     "output_type": "execute_result"
    }
   ],
   "source": [
    "prediccion[:2]"
   ]
  },
  {
   "cell_type": "markdown",
   "metadata": {},
   "source": [
    "15# Copia el contenido de nombres a nombres2."
   ]
  },
  {
   "cell_type": "code",
   "execution_count": 19,
   "metadata": {},
   "outputs": [
    {
     "name": "stdout",
     "output_type": "stream",
     "text": [
      "['J', 'a', 'z', 'm', 'i', 'n']\n"
     ]
    }
   ],
   "source": [
    "nombres3=nombres2.copy()\n",
    "print(nombres3)"
   ]
  },
  {
   "cell_type": "markdown",
   "metadata": {},
   "source": [
    "16# Copia el contenido de apellidos a apellidos2."
   ]
  },
  {
   "cell_type": "code",
   "execution_count": 20,
   "metadata": {},
   "outputs": [
    {
     "name": "stdout",
     "output_type": "stream",
     "text": [
      "['S', 'a', 'n', 'c', 'h', 'e', 'z']\n"
     ]
    }
   ],
   "source": [
    "apellidos3=apellidos2.copy()\n",
    "print(apellidos3)"
   ]
  },
  {
   "cell_type": "markdown",
   "metadata": {},
   "source": [
    "17# Ordena la variable temperaturas3 de mayor a menor."
   ]
  },
  {
   "cell_type": "code",
   "execution_count": 21,
   "metadata": {},
   "outputs": [
    {
     "name": "stdout",
     "output_type": "stream",
     "text": [
      "[15, 10, 9, 9, 20]\n",
      "[20, 15, 10, 9, 9]\n"
     ]
    }
   ],
   "source": [
    "temperatura=prediccion\n",
    "print(temperatura)\n",
    "\n",
    "temperatura.sort(reverse=True)\n",
    "print(temperatura)"
   ]
  },
  {
   "cell_type": "markdown",
   "metadata": {},
   "source": [
    "18# Ordena los caracteres de tu nombre y tu apellido en las listas nombres2 y apellidos2. Imprime el resultado e investiga: ¿qué orden ha cogido? ¿Cómo trata las mayúsculas?"
   ]
  },
  {
   "cell_type": "code",
   "execution_count": 23,
   "metadata": {},
   "outputs": [
    {
     "name": "stdout",
     "output_type": "stream",
     "text": [
      "[['J', 'a', 'z', 'm', 'i', 'n'], ['S', 'a', 'n', 'c', 'h', 'e', 'z']]\n"
     ]
    }
   ],
   "source": [
    "orden=[nombres3, apellidos3]\n",
    "print(orden)"
   ]
  },
  {
   "cell_type": "code",
   "execution_count": 25,
   "metadata": {},
   "outputs": [
    {
     "name": "stdout",
     "output_type": "stream",
     "text": [
      "['J', 'a', 'z', 'm', 'i', 'n', 'S', 'a', 'n', 'c', 'h', 'e', 'z']\n"
     ]
    }
   ],
   "source": [
    "orden=nombres3+apellidos3\n",
    "print(orden)"
   ]
  },
  {
   "cell_type": "markdown",
   "metadata": {},
   "source": [
    "19# ¿Cuántas 'a' tiene tu nombre? ¿Y cuántas 'o'?"
   ]
  },
  {
   "cell_type": "code",
   "execution_count": 31,
   "metadata": {},
   "outputs": [
    {
     "name": "stdout",
     "output_type": "stream",
     "text": [
      "Mi nombre tiene: 1 letra 'a' y 0 letra 'o'\n"
     ]
    }
   ],
   "source": [
    "print(\"Mi nombre tiene:\", nombres3.count(\"a\"), \"letra 'a'\", \"y\", nombres3.count(\"o\"), \"letra 'o'\" )"
   ]
  },
  {
   "cell_type": "markdown",
   "metadata": {},
   "source": [
    "20# Verifica si los resultados de ejercicio 19 son iguales para la lista nombres2."
   ]
  },
  {
   "cell_type": "code",
   "execution_count": null,
   "metadata": {},
   "outputs": [],
   "source": [
    "no entiendo"
   ]
  },
  {
   "cell_type": "markdown",
   "metadata": {},
   "source": [
    "21# ¿Cuántas veces esta semana llega la temperatura a la t_max? ¿Y cuántas a la t_min?"
   ]
  },
  {
   "cell_type": "code",
   "execution_count": 33,
   "metadata": {},
   "outputs": [
    {
     "name": "stdout",
     "output_type": "stream",
     "text": [
      " ¿Cuantas vecesesta semana llega a la temperatura maxima: 1\n",
      " ¿Cuantas vecesesta semana llega a la temperatura minima: 2\n"
     ]
    }
   ],
   "source": [
    "print(\" ¿Cuantas vecesesta semana llega a la temperatura maxima:\", temperatura.count(max(temperatura)))\n",
    "\n",
    "print(\" ¿Cuantas vecesesta semana llega a la temperatura minima:\", temperatura.count(min(temperatura)))"
   ]
  },
  {
   "cell_type": "markdown",
   "metadata": {},
   "source": [
    "22# La lista dias_en contiene 'mondday', 'wednesday', 'thursday', 'friday', 'satay', 'tuesurday', y 'sunday'."
   ]
  },
  {
   "cell_type": "code",
   "execution_count": 36,
   "metadata": {},
   "outputs": [],
   "source": [
    "dias_en=['monday', 'tuesday', 'wednesday', 'thursday', 'friday', 'saturday', 'sunday']"
   ]
  },
  {
   "cell_type": "markdown",
   "metadata": {},
   "source": [
    "23# Define temperaturas_diciembre 👇🏽:"
   ]
  },
  {
   "cell_type": "code",
   "execution_count": 39,
   "metadata": {},
   "outputs": [],
   "source": [
    "\n",
    "  temperaturas_diciembre = [10, 10, 13, 14, 12, 15, \n",
    "                        12, 11, 13, 17, 18, 15, \n",
    "                        15, 17, 17, 13, 13, 11,\n",
    "                        12, 10, 12, 14, 12, 12,\n",
    "                        11, 12, 16, 16, 14, 17, 18]\n"
   ]
  },
  {
   "cell_type": "markdown",
   "metadata": {},
   "source": [
    "24# ¿Cuál es el penúltimo día de la semana?"
   ]
  },
  {
   "cell_type": "code",
   "execution_count": 37,
   "metadata": {},
   "outputs": [
    {
     "name": "stdout",
     "output_type": "stream",
     "text": [
      "Penultimo día de la semana: saturday\n"
     ]
    }
   ],
   "source": [
    "print(\"Penultimo día de la semana:\", dias_en[-2])"
   ]
  },
  {
   "cell_type": "markdown",
   "metadata": {},
   "source": [
    "25# ¿Cuál es el último elemento de la lista de temperaturas de diciembre?"
   ]
  },
  {
   "cell_type": "code",
   "execution_count": 40,
   "metadata": {},
   "outputs": [
    {
     "name": "stdout",
     "output_type": "stream",
     "text": [
      "Último elemento de la lista de temperatura: 18\n"
     ]
    }
   ],
   "source": [
    "print(\"Último elemento de la lista de temperatura:\", temperaturas_diciembre[-1])"
   ]
  },
  {
   "cell_type": "markdown",
   "metadata": {},
   "source": [
    "26# ¿Está 'friday' en la lista de días en inglés? Si está, ¿dónde?"
   ]
  },
  {
   "cell_type": "code",
   "execution_count": 42,
   "metadata": {},
   "outputs": [
    {
     "name": "stdout",
     "output_type": "stream",
     "text": [
      "La posición de 'friday' es: 4\n"
     ]
    }
   ],
   "source": [
    "if 'friday'in dias_en:\n",
    "    print(\"La posición de 'friday' es:\", dias_en.index('friday'))"
   ]
  },
  {
   "cell_type": "markdown",
   "metadata": {},
   "source": [
    "27# ¿Cuál era la temperatura máxima en diciembre?"
   ]
  },
  {
   "cell_type": "code",
   "execution_count": 43,
   "metadata": {},
   "outputs": [
    {
     "name": "stdout",
     "output_type": "stream",
     "text": [
      "La temperatura maxima en Diciembre es: 18\n"
     ]
    }
   ],
   "source": [
    "print(\"La temperatura maxima en Diciembre es:\", max(temperaturas_diciembre))"
   ]
  },
  {
   "cell_type": "markdown",
   "metadata": {},
   "source": [
    "28# Encuentra el índice de 'miércoles' en dias_en."
   ]
  },
  {
   "cell_type": "code",
   "execution_count": 44,
   "metadata": {},
   "outputs": [
    {
     "name": "stdout",
     "output_type": "stream",
     "text": [
      "La posición de 'friday' es: 2\n"
     ]
    }
   ],
   "source": [
    "print(\"La posición de 'friday' es:\", dias_en.index('wednesday'))"
   ]
  },
  {
   "cell_type": "markdown",
   "metadata": {},
   "source": [
    "29# (Bonus) Imprime esta frase en pantalla: 'La temperatura máxima esta semana será 14 ºC, que ocurrirá en 1 días(s). El día más frío tendrá una temperatura máxima de 10 ºC, que ocurrirá en 2 día(s).'"
   ]
  },
  {
   "cell_type": "code",
   "execution_count": 47,
   "metadata": {},
   "outputs": [
    {
     "name": "stdout",
     "output_type": "stream",
     "text": [
      "La temperatura máxima esta semana será 14 ºC, que ocurrirá en 1 día(s). El día más frío tendrá una temperatura máxima de 10 ºC, que ocurrirá en 2 día(s).\n"
     ]
    }
   ],
   "source": [
    "print('La temperatura máxima esta semana será 14 ºC, que ocurrirá en 1 día(s). El día más frío tendrá una temperatura máxima de 10 ºC, que ocurrirá en 2 día(s).')"
   ]
  },
  {
   "cell_type": "markdown",
   "metadata": {},
   "source": [
    "## EJERCICIOS TUPLAS"
   ]
  },
  {
   "cell_type": "markdown",
   "metadata": {},
   "source": [
    "*Definir tuplas\n",
    "\n",
    "1. Crea una tupla persona1 para juntar los siguientes datos: 61 kg, 1.54 m altura, pelo marrón, sin usar paréntesis. (Serán del tipo int, float y str.)\n",
    "\n",
    "2. Crea una tupla para la persona2 de 68 kg, 1.65 m y pelo rubio, usando paréntesis.\n",
    "\n",
    "3. Crea una lista talla que recompila 'M', 42, y 39."
   ]
  },
  {
   "cell_type": "code",
   "execution_count": 52,
   "metadata": {},
   "outputs": [
    {
     "name": "stdout",
     "output_type": "stream",
     "text": [
      "<class 'tuple'>\n",
      "<class 'tuple'>\n",
      "<class 'list'>\n"
     ]
    }
   ],
   "source": [
    "persona1=\"61 kg\", \"1.54 m altura\", \"pelo marrón\"\n",
    "print(type(persona1))\n",
    "\n",
    "persona2= (\"68 kg\", \"1.65 m altura\", \"pelo rubio\")\n",
    "print(type(persona2))\n",
    "\n",
    "lista_talla=[\"M\", 42, 39]\n",
    "print(type(lista_talla))"
   ]
  },
  {
   "cell_type": "markdown",
   "metadata": {},
   "source": [
    "\n",
    "*Convertir y juntar\n",
    "\n",
    "4. Convierte la lista talla a una tupla.\n",
    "\n",
    "5. Une a la tupla de persona1 los datos en talla, para tener una única tupla."
   ]
  },
  {
   "cell_type": "code",
   "execution_count": 56,
   "metadata": {},
   "outputs": [
    {
     "name": "stdout",
     "output_type": "stream",
     "text": [
      "<class 'tuple'>\n"
     ]
    }
   ],
   "source": [
    "lista_talla=tuple(lista_talla)\n",
    "print(type(lista_talla))"
   ]
  },
  {
   "cell_type": "code",
   "execution_count": 57,
   "metadata": {},
   "outputs": [
    {
     "name": "stdout",
     "output_type": "stream",
     "text": [
      "Única tupla: ('61 kg', '1.54 m altura', 'pelo marrón', 'M', 42, 39)\n"
     ]
    }
   ],
   "source": [
    "unica_tupla=persona1+lista_talla\n",
    "print(\"Única tupla:\", unica_tupla)"
   ]
  },
  {
   "cell_type": "markdown",
   "metadata": {},
   "source": [
    "*Indexar tuplas\n",
    "\n",
    "6. Saca de persona2 el contenido del tercer elemento y llámalo color.\n",
    "\n",
    "7. ¿Cuántos elementos hay ahora en persona1? (Es decir, ¿cuál es su longitud?)"
   ]
  },
  {
   "cell_type": "code",
   "execution_count": 70,
   "metadata": {},
   "outputs": [
    {
     "name": "stdout",
     "output_type": "stream",
     "text": [
      "<class 'list'>\n",
      "<class 'tuple'>\n",
      "La tupla modificada es: ('68 kg', '1.65 m altura', 'color')\n"
     ]
    }
   ],
   "source": [
    "persona2=list(persona2)\n",
    "print(type(persona2))\n",
    "\n",
    "persona2[2]=\"color\"\n",
    "\n",
    "persona2=tuple(persona2)\n",
    "print(type(persona2))\n",
    "\n",
    "print(\"La tupla modificada es:\", persona2)"
   ]
  },
  {
   "cell_type": "code",
   "execution_count": 71,
   "metadata": {},
   "outputs": [
    {
     "name": "stdout",
     "output_type": "stream",
     "text": [
      "3\n"
     ]
    }
   ],
   "source": [
    "print(len(persona1))"
   ]
  },
  {
   "cell_type": "markdown",
   "metadata": {},
   "source": [
    "*Desempaquetar\n",
    "\n",
    "8. Crea las variables peso, altura, color_pelo y llénalas con el contenido de persona1. Imprime color_pelo para comprobar el resultado."
   ]
  },
  {
   "cell_type": "code",
   "execution_count": 73,
   "metadata": {},
   "outputs": [
    {
     "name": "stdout",
     "output_type": "stream",
     "text": [
      "pelo marrón\n"
     ]
    }
   ],
   "source": [
    "peso=persona1[0]\n",
    "\n",
    "altura=persona1[1]\n",
    "\n",
    "color_pelo=persona1[2]\n",
    "print(color_pelo)"
   ]
  },
  {
   "cell_type": "markdown",
   "metadata": {},
   "source": [
    "*Zipear\n",
    "\n",
    "9. Crea el zip personas con persona1 y persona2.\n",
    "\n",
    "10. ¿Cuántas \"elementos\" tiene personas? ¿Por qué?\n",
    "\n",
    "11. Crea una tupla etiquetas con 'peso', 'altura', y 'color_pelo'.\n",
    "\n",
    "12. Crea al zip de etiquetas, persona1, y persona2, llamado \"todo\"."
   ]
  },
  {
   "cell_type": "code",
   "execution_count": 78,
   "metadata": {},
   "outputs": [
    {
     "name": "stdout",
     "output_type": "stream",
     "text": [
      "[('61 kg', '68 kg'), ('1.54 m altura', '1.65 m altura'), ('pelo marrón', 'color')]\n",
      "<class 'tuple'>\n"
     ]
    }
   ],
   "source": [
    "zip_personas=list(zip(persona1, persona2))\n",
    "print(zip_personas)\n",
    "\n",
    "zip_personas=tuple(zip_personas)\n",
    "print(type(zip_personas))"
   ]
  },
  {
   "cell_type": "code",
   "execution_count": 79,
   "metadata": {},
   "outputs": [
    {
     "name": "stdout",
     "output_type": "stream",
     "text": [
      "3\n"
     ]
    }
   ],
   "source": [
    "print(len(zip_personas))"
   ]
  },
  {
   "cell_type": "code",
   "execution_count": 81,
   "metadata": {},
   "outputs": [
    {
     "name": "stdout",
     "output_type": "stream",
     "text": [
      "<class 'tuple'>\n"
     ]
    }
   ],
   "source": [
    "etiquetas=peso, altura, color_pelo\n",
    "print(type(etiquetas))"
   ]
  },
  {
   "cell_type": "code",
   "execution_count": 83,
   "metadata": {},
   "outputs": [
    {
     "name": "stdout",
     "output_type": "stream",
     "text": [
      "[('61 kg', '61 kg', '68 kg'), ('1.54 m altura', '1.54 m altura', '1.65 m altura'), ('pelo marrón', 'pelo marrón', 'color')]\n",
      "<class 'tuple'>\n"
     ]
    }
   ],
   "source": [
    "todo=list(zip(etiquetas, persona1, persona2))\n",
    "print(todo)\n",
    "\n",
    "todo=tuple(todo)\n",
    "print(type(todo))"
   ]
  },
  {
   "cell_type": "markdown",
   "metadata": {},
   "source": [
    "*Manipular zips\n",
    "\n",
    "13. Ordena las propiedades de la variable personas alfabéticamente. ¿Puedes? ¿Por qué?"
   ]
  },
  {
   "cell_type": "code",
   "execution_count": 90,
   "metadata": {},
   "outputs": [],
   "source": [
    "zip_personas=list(zip_personas)"
   ]
  },
  {
   "cell_type": "code",
   "execution_count": 91,
   "metadata": {},
   "outputs": [],
   "source": [
    "zip_personas.sort()"
   ]
  },
  {
   "cell_type": "code",
   "execution_count": 92,
   "metadata": {},
   "outputs": [
    {
     "name": "stdout",
     "output_type": "stream",
     "text": [
      "[('1.54 m altura', '1.65 m altura'), ('61 kg', '68 kg'), ('pelo marrón', 'color')]\n"
     ]
    }
   ],
   "source": [
    "print(zip_personas)"
   ]
  }
 ],
 "metadata": {
  "kernelspec": {
   "display_name": "Python 3",
   "language": "python",
   "name": "python3"
  },
  "language_info": {
   "codemirror_mode": {
    "name": "ipython",
    "version": 3
   },
   "file_extension": ".py",
   "mimetype": "text/x-python",
   "name": "python",
   "nbconvert_exporter": "python",
   "pygments_lexer": "ipython3",
   "version": "3.11.9"
  }
 },
 "nbformat": 4,
 "nbformat_minor": 2
}
