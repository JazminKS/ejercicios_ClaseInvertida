{
 "cells": [
  {
   "cell_type": "markdown",
   "metadata": {},
   "source": [
    "## Ejercicios"
   ]
  },
  {
   "cell_type": "markdown",
   "metadata": {},
   "source": [
    "1. Genera un array bidimensional de 4 x 3 con valores aleatorios enteros entre el 34 y el 98. Una vez creado cada array comprueba las dimensiones y los tipos de datos que tenemos en el array."
   ]
  },
  {
   "cell_type": "code",
   "execution_count": 1,
   "metadata": {},
   "outputs": [
    {
     "name": "stdout",
     "output_type": "stream",
     "text": [
      "Requirement already satisfied: numpy in c:\\users\\invitadolaptop\\appdata\\local\\packages\\pythonsoftwarefoundation.python.3.11_qbz5n2kfra8p0\\localcache\\local-packages\\python311\\site-packages (2.2.3)\n"
     ]
    },
    {
     "name": "stderr",
     "output_type": "stream",
     "text": [
      "\n",
      "[notice] A new release of pip is available: 24.0 -> 25.0.1\n",
      "[notice] To update, run: C:\\Users\\InvitadoLaptop\\AppData\\Local\\Microsoft\\WindowsApps\\PythonSoftwareFoundation.Python.3.11_qbz5n2kfra8p0\\python.exe -m pip install --upgrade pip\n"
     ]
    }
   ],
   "source": [
    "!pip install numpy"
   ]
  },
  {
   "cell_type": "code",
   "execution_count": 2,
   "metadata": {},
   "outputs": [],
   "source": [
    "import numpy as np"
   ]
  },
  {
   "cell_type": "code",
   "execution_count": 3,
   "metadata": {},
   "outputs": [
    {
     "name": "stdout",
     "output_type": "stream",
     "text": [
      "El array bidimensional creado a partir del método np.random.randint(): \n",
      "  [[85 58 45]\n",
      " [77 62 74]\n",
      " [77 56 87]\n",
      " [89 80 62]] \n",
      "\n"
     ]
    }
   ],
   "source": [
    "array_randint_bi = np.random.randint(34, 98, (4,3))\n",
    "print(f\"El array bidimensional creado a partir del método np.random.randint(): \\n  {array_randint_bi} \\n\")"
   ]
  },
  {
   "cell_type": "markdown",
   "metadata": {},
   "source": [
    "2. Crea dos arrays (unidimensional, bidimensional) usando el método np.array().\n",
    "\n",
    "Las listas para crear los arrays son las siguientes:"
   ]
  },
  {
   "cell_type": "code",
   "execution_count": 5,
   "metadata": {},
   "outputs": [],
   "source": [
    "lista1 = [34,56,71,98, 10]\n",
    "lista2 = [[23,45,89, 56], [12,43,82,44]]"
   ]
  },
  {
   "cell_type": "code",
   "execution_count": 6,
   "metadata": {},
   "outputs": [
    {
     "name": "stdout",
     "output_type": "stream",
     "text": [
      "El array unidimensional creado a partir de la lista es: \n",
      "  [34 56 71 98 10] \n",
      "\n"
     ]
    }
   ],
   "source": [
    "array_unidimensional = np.array(lista1)\n",
    "print(f\"El array unidimensional creado a partir de la lista es: \\n  {array_unidimensional} \\n\")"
   ]
  },
  {
   "cell_type": "code",
   "execution_count": 7,
   "metadata": {},
   "outputs": [
    {
     "name": "stdout",
     "output_type": "stream",
     "text": [
      "El array bidimensional creado a partir de la lista es:\n",
      "  [[23 45 89 56]\n",
      " [12 43 82 44]]\n",
      "\n"
     ]
    }
   ],
   "source": [
    "array_bidimensional = np.array(lista2)\n",
    "print(f\"El array bidimensional creado a partir de la lista es:\\n  {array_bidimensional}\\n\")"
   ]
  },
  {
   "cell_type": "markdown",
   "metadata": {},
   "source": [
    "3. Crea un array unidimensional con 50 elementos con el método que prefieras y extrae:\n",
    "\n",
    "El primer elemento.\n",
    "\n",
    "**Lo elementos que están en posición impar.\n",
    "\n",
    "**Los cuatro primeros elementos.\n",
    "\n",
    "**Los últimos tres elementos.\n",
    "\n",
    "**Los elementos entre el 4 y el 8 (incluido)."
   ]
  },
  {
   "cell_type": "code",
   "execution_count": 10,
   "metadata": {},
   "outputs": [
    {
     "name": "stdout",
     "output_type": "stream",
     "text": [
      "El array bidimensional creado a partir del método np.emtpy(): \n",
      "  [ 1  2  3  4  5  6  7  8  9 10 11 12 13 14 15 16 17 18 19 20 21 22 23 24\n",
      " 25 26 27 28 29 30 31 32 33 34 35 36 37 38 39 40 41 42 43 44 45 46 47 48\n",
      " 49 50] \n",
      "\n"
     ]
    }
   ],
   "source": [
    "array_unidimensional_arange =  np.arange(1,51)\n",
    "print(f\"El array bidimensional creado a partir del método np.emtpy(): \\n  {array_unidimensional_arange} \\n\")"
   ]
  },
  {
   "cell_type": "code",
   "execution_count": 16,
   "metadata": {},
   "outputs": [
    {
     "name": "stdout",
     "output_type": "stream",
     "text": [
      "Lo elementos que están en posición impar: \n",
      " [ 1  3  5  7  9 11 13 15 17 19 21 23 25 27 29 31 33 35 37 39 41 43 45 47\n",
      " 49]\n"
     ]
    }
   ],
   "source": [
    "print(f\"Lo elementos que están en posición impar: \\n {array_unidimensional_arange[0:51:2]}\")"
   ]
  },
  {
   "cell_type": "code",
   "execution_count": null,
   "metadata": {},
   "outputs": [
    {
     "name": "stdout",
     "output_type": "stream",
     "text": [
      "Los tres últimos elementos de nuestro array son: \n",
      " [1 2 3 4]\n"
     ]
    }
   ],
   "source": [
    "print(f\"Los cuatro primeros elementos: \\n {array_unidimensional_arange[:4]}\")"
   ]
  },
  {
   "cell_type": "code",
   "execution_count": 11,
   "metadata": {},
   "outputs": [
    {
     "name": "stdout",
     "output_type": "stream",
     "text": [
      "Los tres últimos elementos de nuestro array son: \n",
      " [48 49 50]\n"
     ]
    }
   ],
   "source": [
    "print(f\"Los tres últimos elementos de nuestro array son: \\n {array_unidimensional_arange[-3:]}\")"
   ]
  },
  {
   "cell_type": "code",
   "execution_count": null,
   "metadata": {},
   "outputs": [
    {
     "name": "stdout",
     "output_type": "stream",
     "text": [
      "El tercer y cuarto elemento de nuestro array son: \n",
      " [5 6 7 8]\n"
     ]
    }
   ],
   "source": [
    "print(f\"Los elementos entre el 4 y el 8 (incluido): \\n {array_unidimensional_arange[4:8]}\")"
   ]
  },
  {
   "cell_type": "markdown",
   "metadata": {},
   "source": [
    "4. Crea un array de dos dimensiones de 4 x 5 con el método que prefieras y extrae:\n",
    "\n",
    "**La primera fila y todas las columnas.\n",
    "\n",
    "**Todas las filas pares.\n",
    "\n",
    "**La primera columna y todas las filas."
   ]
  },
  {
   "cell_type": "code",
   "execution_count": 104,
   "metadata": {},
   "outputs": [
    {
     "name": "stdout",
     "output_type": "stream",
     "text": [
      "El array bidimensional creado a partir del método np.random.randint(): \n",
      "  [[ 1 15  6  1 12]\n",
      " [ 6 10 15 17 19]\n",
      " [ 0 13  4  2 18]\n",
      " [16  4 14 13  8]] \n",
      "\n"
     ]
    }
   ],
   "source": [
    "array_randint_bi = np.random.randint(0, 21, (4,5))\n",
    "print(f\"El array bidimensional creado a partir del método np.random.randint(): \\n  {array_randint_bi} \\n\")"
   ]
  },
  {
   "cell_type": "code",
   "execution_count": 105,
   "metadata": {},
   "outputs": [
    {
     "name": "stdout",
     "output_type": "stream",
     "text": [
      "La primera fila y todas las columnas: \n",
      " [ 1 15  6  1 12]\n"
     ]
    }
   ],
   "source": [
    "print(f\"La primera fila y todas las columnas: \\n {array_randint_bi[0]}\")"
   ]
  },
  {
   "cell_type": "code",
   "execution_count": 106,
   "metadata": {},
   "outputs": [
    {
     "name": "stdout",
     "output_type": "stream",
     "text": [
      "Todas las filas pares: \n",
      "  [[ 1 15  6  1 12]\n",
      " [ 0 13  4  2 18]] \n",
      "\n"
     ]
    }
   ],
   "source": [
    "filas_pares = array_randint_bi[::2]\n",
    "print(f\"Todas las filas pares: \\n  {filas_pares} \\n\")"
   ]
  },
  {
   "cell_type": "code",
   "execution_count": 107,
   "metadata": {},
   "outputs": [
    {
     "name": "stdout",
     "output_type": "stream",
     "text": [
      "La primera columna y todas las filas: \n",
      " [[ 1]\n",
      " [ 6]\n",
      " [ 0]\n",
      " [16]]\n"
     ]
    }
   ],
   "source": [
    "print(f\"La primera columna y todas las filas: \\n {array_randint_bi[:4,0:1]}\")"
   ]
  },
  {
   "cell_type": "markdown",
   "metadata": {},
   "source": [
    "5. Crea un array bidimensional con 20 elementos aleatrorios entre 0 y 50 con el método que prefieras y:\n",
    "\n",
    "**Crea una mascara o filtro donde los valores mayores a 30 y menores a 10 se reemplace por \"objetivo\" y el resto por \"no es mi objetivo\".\n",
    "\n",
    "**Los valores de mi array bidimensional multiplicalos por el escalar 10."
   ]
  },
  {
   "cell_type": "code",
   "execution_count": 110,
   "metadata": {},
   "outputs": [
    {
     "name": "stdout",
     "output_type": "stream",
     "text": [
      "El array bidimensional creado a partir del método np.random.randint(): \n",
      "  [[30 24 45 32 36]\n",
      " [31 13 18 29 13]\n",
      " [37 27 47 32 36]\n",
      " [35 46 42 37  2]] \n",
      "\n"
     ]
    }
   ],
   "source": [
    "array_randint_bi = np.random.randint(0, 50, (4,5))\n",
    "print(f\"El array bidimensional creado a partir del método np.random.randint(): \\n  {array_randint_bi} \\n\")"
   ]
  },
  {
   "cell_type": "code",
   "execution_count": 111,
   "metadata": {},
   "outputs": [
    {
     "name": "stdout",
     "output_type": "stream",
     "text": [
      "Primer paso: creación de una máscara booleana \n",
      " [[False False  True  True  True]\n",
      " [ True False False False False]\n",
      " [ True False  True  True  True]\n",
      " [ True  True  True  True False]]\n",
      "-----------------------------\n",
      "Segundo paso: aplicar la máscara booleana \n",
      " [45 32 36 31 37 47 32 36 35 46 42 37]\n"
     ]
    }
   ],
   "source": [
    "print(f\"Primer paso: creación de una máscara booleana \\n {array_randint_bi > 30}\")\n",
    "\n",
    "print(\"-----------------------------\")\n",
    "print(f\"Segundo paso: aplicar la máscara booleana \\n {array_randint_bi[array_randint_bi > 30]}\")\n"
   ]
  },
  {
   "cell_type": "code",
   "execution_count": 112,
   "metadata": {},
   "outputs": [
    {
     "name": "stdout",
     "output_type": "stream",
     "text": [
      "Objetivo: \n",
      " [45 32 36 31 37 47 32 36 35 46 42 37  2]\n"
     ]
    }
   ],
   "source": [
    "resultado_filtradoI = array_randint_bi[(array_randint_bi > 30) |  (array_randint_bi < 10)]\n",
    "print(f\"Objetivo: \\n {resultado_filtradoI}\")"
   ]
  },
  {
   "cell_type": "code",
   "execution_count": 113,
   "metadata": {},
   "outputs": [
    {
     "name": "stdout",
     "output_type": "stream",
     "text": [
      "El resultado de la multiplicación del array con el escalar es:\n",
      " [[300 240 450 320 360]\n",
      " [310 130 180 290 130]\n",
      " [370 270 470 320 360]\n",
      " [350 460 420 370  20]]\n"
     ]
    }
   ],
   "source": [
    "escalar = 10\n",
    "\n",
    "multiplicacion_escalar = array_randint_bi * escalar\n",
    "\n",
    "print(\"El resultado de la multiplicación del array con el escalar es:\\n\", multiplicacion_escalar)"
   ]
  },
  {
   "cell_type": "markdown",
   "metadata": {},
   "source": [
    "6. Crea un nuevo array de dos dimensiones con la misma forma que el anterior y con el método que prefieras y realiza lo siguiente:\n",
    "\n",
    "**Suma el primer array con el segundo.\n",
    "\n",
    "**Aplicar la potencia para el primer array elevado al segundo."
   ]
  },
  {
   "cell_type": "code",
   "execution_count": 117,
   "metadata": {},
   "outputs": [
    {
     "name": "stdout",
     "output_type": "stream",
     "text": [
      "El array bidimensional creado a partir del método np.random.randint(): \n",
      "  [[68 55 81 66 67]\n",
      " [75 79 78 88 96]\n",
      " [51 89 80 50 92]\n",
      " [83 99 99 57 77]] \n",
      "\n"
     ]
    }
   ],
   "source": [
    "array_randint_bi2 = np.random.randint(50, 101, (4,5))\n",
    "print(f\"El array bidimensional creado a partir del método np.random.randint(): \\n  {array_randint_bi2} \\n\")"
   ]
  },
  {
   "cell_type": "code",
   "execution_count": 118,
   "metadata": {},
   "outputs": [
    {
     "name": "stdout",
     "output_type": "stream",
     "text": [
      "El resultado de la suma de los dos arrays es:\n",
      " [[ 98  79 126  98 103]\n",
      " [106  92  96 117 109]\n",
      " [ 88 116 127  82 128]\n",
      " [118 145 141  94  79]]\n"
     ]
    }
   ],
   "source": [
    "suma = np.add(array_randint_bi, array_randint_bi2)  # Suma los elementos correspondientes de los dos arrays\n",
    "print(\"El resultado de la suma de los dos arrays es:\\n\", suma)\n"
   ]
  },
  {
   "cell_type": "code",
   "execution_count": 119,
   "metadata": {},
   "outputs": [
    {
     "name": "stdout",
     "output_type": "stream",
     "text": [
      "El resultado de la potencia de los dos arrays es:\n",
      " [[          0           0 -1056987539           0           0]\n",
      " [ 1108815199  1300916485           0  -787223327 -1906587263]\n",
      " [-1051634147   798879739   832964865           0           0]\n",
      " [-1798726597           0           0  -452002619           0]]\n"
     ]
    }
   ],
   "source": [
    "elevado = np.power(array_randint_bi, array_randint_bi2)  # Elevar los elementos correspondientes de los dos arrays\n",
    "print(\"El resultado de la potencia de los dos arrays es:\\n\", elevado)"
   ]
  },
  {
   "cell_type": "markdown",
   "metadata": {},
   "source": [
    "7. Crea un array, puede ser bidimensional! Eso si, los valores tienen que estar entre 0-100\n",
    "\n",
    "Calcula:\n",
    "\n",
    "**La media de los elementos\n",
    "\n",
    "**La media de las columnas y redondéalo a dos decimales\n",
    "\n",
    "**El valor máximo de cada fila\n",
    "\n",
    "**El valor mínimo de cada fila\n",
    "\n",
    "**Hay algun valor que sea mayor que 90 en tu array\n",
    "\n",
    "**Donde los podemos encontrar, cuáles son sus índices\n",
    "\n",
    "**Ordena el array de mayor a menor"
   ]
  },
  {
   "cell_type": "code",
   "execution_count": 120,
   "metadata": {},
   "outputs": [
    {
     "name": "stdout",
     "output_type": "stream",
     "text": [
      "El array bidimensional creado a partir del método np.random.randint(): \n",
      "  [[92  0 94 34 26]\n",
      " [14 98 15 10 10]\n",
      " [30 95 68 90 78]\n",
      " [85 46 15 10 84]] \n",
      "\n"
     ]
    }
   ],
   "source": [
    "array_randint_bi3 = np.random.randint(0, 100, (4,5))\n",
    "print(f\"El array bidimensional creado a partir del método np.random.randint(): \\n  {array_randint_bi3} \\n\")"
   ]
  },
  {
   "cell_type": "code",
   "execution_count": 122,
   "metadata": {},
   "outputs": [
    {
     "name": "stdout",
     "output_type": "stream",
     "text": [
      "El cálculo de la media de todos los elementos del array es: \n",
      " 49.7\n"
     ]
    }
   ],
   "source": [
    "media = np.mean(array_randint_bi3)\n",
    "\n",
    "print(f\"El cálculo de la media de todos los elementos del array es: \\n {media}\")"
   ]
  },
  {
   "cell_type": "code",
   "execution_count": 127,
   "metadata": {},
   "outputs": [
    {
     "name": "stdout",
     "output_type": "stream",
     "text": [
      "La media de cada COLUMNA (axis = 0) del array es: \n",
      " [55.25 59.75 48.   36.   49.5 ]\n"
     ]
    }
   ],
   "source": [
    "media_col = np.mean(array_randint_bi3, axis = 0) # noten que agregamos un eje donde aplico la funcion\n",
    "\n",
    "print(f\"La media de cada COLUMNA (axis = 0) del array es: \\n {media_col}\")"
   ]
  },
  {
   "cell_type": "code",
   "execution_count": 128,
   "metadata": {},
   "outputs": [
    {
     "name": "stdout",
     "output_type": "stream",
     "text": [
      "El valor máximo de cada FILA (axis = 1) del array es: \n",
      " [94 98 95 85]\n"
     ]
    }
   ],
   "source": [
    "maximo_fila = np.max(array_randint_bi3, axis = 1) # noten que agregamos un eje donde aplico la funcion\n",
    "\n",
    "print(f\"El valor máximo de cada FILA (axis = 1) del array es: \\n {maximo_fila}\")"
   ]
  },
  {
   "cell_type": "code",
   "execution_count": 129,
   "metadata": {},
   "outputs": [
    {
     "name": "stdout",
     "output_type": "stream",
     "text": [
      "El valor mínimo de cada FILA (axis = 1) del array es: \n",
      " [ 0 10 30 10]\n"
     ]
    }
   ],
   "source": [
    "minimo_fila = np.min(array_randint_bi3, axis = 1) # noten que agregamos un eje donde aplico la funcion\n",
    "\n",
    "print(f\"El valor mínimo de cada FILA (axis = 1) del array es: \\n {minimo_fila}\")"
   ]
  },
  {
   "cell_type": "code",
   "execution_count": 131,
   "metadata": {},
   "outputs": [
    {
     "name": "stdout",
     "output_type": "stream",
     "text": [
      "El resultado del np.where() es: \n",
      " (array([0, 0, 1, 2, 2]), array([0, 2, 1, 1, 3]))\n"
     ]
    }
   ],
   "source": [
    "resultado_where = np.where(array_randint_bi3 > 89)\n",
    "\n",
    "print(\"El resultado del np.where() es: \\n\", resultado_where)"
   ]
  },
  {
   "cell_type": "code",
   "execution_count": 134,
   "metadata": {},
   "outputs": [
    {
     "name": "stdout",
     "output_type": "stream",
     "text": [
      "El resultado del filtrado es: \n",
      " [92 94 98 95]\n"
     ]
    }
   ],
   "source": [
    "resultado_filtradoI = array_randint_bi3[(array_randint_bi3 > 90)]\n",
    "print(f\"El resultado del filtrado es: \\n {resultado_filtradoI}\")"
   ]
  },
  {
   "cell_type": "code",
   "execution_count": 135,
   "metadata": {},
   "outputs": [
    {
     "name": "stdout",
     "output_type": "stream",
     "text": [
      "Ordena el array de mayor a menor[[94 92 34 26  0]\n",
      " [98 15 14 10 10]\n",
      " [95 90 78 68 30]\n",
      " [85 84 46 15 10]]\n"
     ]
    }
   ],
   "source": [
    "print(f\"Ordena el array de mayor a menor{-np.sort(-array_randint_bi3)}\")"
   ]
  }
 ],
 "metadata": {
  "kernelspec": {
   "display_name": "Python 3",
   "language": "python",
   "name": "python3"
  },
  "language_info": {
   "codemirror_mode": {
    "name": "ipython",
    "version": 3
   },
   "file_extension": ".py",
   "mimetype": "text/x-python",
   "name": "python",
   "nbconvert_exporter": "python",
   "pygments_lexer": "ipython3",
   "version": "3.11.9"
  }
 },
 "nbformat": 4,
 "nbformat_minor": 2
}
